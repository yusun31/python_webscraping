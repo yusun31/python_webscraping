{
 "cells": [
  {
   "cell_type": "markdown",
   "id": "67ee2a63",
   "metadata": {},
   "source": [
    "### Melon Top100 chart\n",
    "- 100곡의 노래 제목과 ID 추출 후, 저장\n",
    "- 100곡의 노래의 상세 정보를 추출해서 list와 dict에 저장 후, json 파일로 저장\n",
    "- json 파일을 load하여 Pandas의 DataFrame에 저장\n",
    "- DataFrame 객체를 DB의 table에 저장"
   ]
  },
  {
   "cell_type": "code",
   "execution_count": 16,
   "id": "d3fc4f41",
   "metadata": {
    "scrolled": false
   },
   "outputs": [
    {
     "name": "stdout",
     "output_type": "stream",
     "text": [
      "100\n"
     ]
    },
    {
     "ename": "NameError",
     "evalue": "name 'song_dict' is not defined",
     "output_type": "error",
     "traceback": [
      "\u001b[1;31m---------------------------------------------------------------------------\u001b[0m",
      "\u001b[1;31mNameError\u001b[0m                                 Traceback (most recent call last)",
      "\u001b[1;32m~\\AppData\\Local\\Temp/ipykernel_21324/2119165296.py\u001b[0m in \u001b[0;36m<module>\u001b[1;34m\u001b[0m\n\u001b[0;32m     23\u001b[0m     \u001b[1;32mfor\u001b[0m \u001b[0midx\u001b[0m\u001b[1;33m,\u001b[0m \u001b[0ma_tag\u001b[0m \u001b[1;32min\u001b[0m \u001b[0menumerate\u001b[0m\u001b[1;33m(\u001b[0m\u001b[0ma_tags\u001b[0m\u001b[1;33m,\u001b[0m\u001b[1;36m1\u001b[0m\u001b[1;33m)\u001b[0m\u001b[1;33m:\u001b[0m\u001b[1;33m\u001b[0m\u001b[1;33m\u001b[0m\u001b[0m\n\u001b[0;32m     24\u001b[0m         \u001b[0msong_title\u001b[0m \u001b[1;33m=\u001b[0m \u001b[0ma_tag\u001b[0m\u001b[1;33m.\u001b[0m\u001b[0mtext\u001b[0m \u001b[1;31m# a 태그안에 text요소(노래 제목) 가져오기\u001b[0m\u001b[1;33m\u001b[0m\u001b[1;33m\u001b[0m\u001b[0m\n\u001b[1;32m---> 25\u001b[1;33m         \u001b[0msong_dict\u001b[0m\u001b[1;33m[\u001b[0m\u001b[1;34m'title'\u001b[0m\u001b[1;33m]\u001b[0m \u001b[1;33m=\u001b[0m \u001b[0msong_title\u001b[0m\u001b[1;33m\u001b[0m\u001b[1;33m\u001b[0m\u001b[0m\n\u001b[0m\u001b[0;32m     26\u001b[0m         \u001b[0mhref_value\u001b[0m \u001b[1;33m=\u001b[0m \u001b[0ma_tag\u001b[0m\u001b[1;33m[\u001b[0m\u001b[1;34m'href'\u001b[0m\u001b[1;33m]\u001b[0m  \u001b[1;31m# a 태그안에 href요소 가져오기\u001b[0m\u001b[1;33m\u001b[0m\u001b[1;33m\u001b[0m\u001b[0m\n\u001b[0;32m     27\u001b[0m         \u001b[1;31m# print(href_value)\u001b[0m\u001b[1;33m\u001b[0m\u001b[1;33m\u001b[0m\u001b[0m\n",
      "\u001b[1;31mNameError\u001b[0m: name 'song_dict' is not defined"
     ]
    }
   ],
   "source": [
    "import requests\n",
    "from bs4 import BeautifulSoup\n",
    "import re\n",
    "\n",
    "url = 'https://www.melon.com/chart/index.htm'\n",
    "req_header_dict = {\n",
    "    # 요청헤더(브라우저 정보)\n",
    "   'user-agent' : 'Mozilla/5.0 (Windows NT 10.0; Win64; x64) AppleWebKit/537.36 (KHTML, like Gecko) Chrome/97.0.4692.99 Safari/537.36'\n",
    "}\n",
    "res = requests.get(url, headers=req_header_dict)\n",
    "# print(res.status_code)\n",
    "\n",
    "if(res.ok):\n",
    "    html = res.text # url의 elments 모든 text 가져오기\n",
    "    # BeautifulSoup 생성자에서 html을 파싱하고 그 결과를 BeautifulSoup 객체로 반환한다.\n",
    "    soup = BeautifulSoup(html, 'html.parser')\n",
    "    # playSong이 들어간 a href태그(div태그의 id가 tb_list인 tr안에 있음)\n",
    "    print(len(soup.select(\"div#tb_list tr a[href*='playSong']\")))\n",
    "    a_tags = soup.select(\"div#tb_list tr a[href*='playSong']\")\n",
    "    \n",
    "    song_list=[]\n",
    "    \n",
    "    for idx, a_tag in enumerate(a_tags,1):\n",
    "        song_title = a_tag.text # a 태그안에 text요소(노래 제목) 가져오기\n",
    "        song_dict['title'] = song_title\n",
    "        href_value = a_tag['href']  # a 태그안에 href요소 가져오기\n",
    "        # print(href_value)\n",
    "        # 정규표현식 사용(re)해서 노래 ID찾기\n",
    "        matched = re.search(r'(\\d+)\\);', href_value)\n",
    "        # print(matched.group(1))\n",
    "        if matched:\n",
    "            song_id = matched.group(1)\n",
    "            song_dict['id'] = song_id\n",
    "            song_detail_url = f'https://www.melon.com/song/detail.htm?songId={song_id}'\n",
    "            song_dict['url'] = song_detail_url\n",
    "            # print(idx, song_title, song_id, song_detail_url)\n",
    "            print(song_dict)\n",
    "            song_list.append(song_dict)"
   ]
  },
  {
   "cell_type": "markdown",
   "id": "4c285177",
   "metadata": {},
   "source": [
    "#### 정규 표현식\n",
    "- https://www.nextree.co.kr/p4327/"
   ]
  },
  {
   "cell_type": "code",
   "execution_count": null,
   "id": "27252216",
   "metadata": {},
   "outputs": [],
   "source": []
  }
 ],
 "metadata": {
  "kernelspec": {
   "display_name": "PyCharm (webscrap_source)",
   "language": "python",
   "name": "pycharm-96fd260c"
  },
  "language_info": {
   "codemirror_mode": {
    "name": "ipython",
    "version": 3
   },
   "file_extension": ".py",
   "mimetype": "text/x-python",
   "name": "python",
   "nbconvert_exporter": "python",
   "pygments_lexer": "ipython3",
   "version": "3.9.7"
  }
 },
 "nbformat": 4,
 "nbformat_minor": 5
}
