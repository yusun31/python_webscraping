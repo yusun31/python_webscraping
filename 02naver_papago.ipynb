{
 "cells": [
  {
   "cell_type": "markdown",
   "id": "570bf0ff-dd4c-4a6c-9143-4e60a58db6f3",
   "metadata": {},
   "source": [
    "### Url Library를 사용한 Papago 번역 API예제"
   ]
  },
  {
   "cell_type": "code",
   "execution_count": 2,
   "id": "b990ec24-8771-4d10-8341-05ed2e8c2bdf",
   "metadata": {},
   "outputs": [
    {
     "name": "stdout",
     "output_type": "stream",
     "text": [
      "{\"message\":{\"@type\":\"response\",\"@service\":\"naverservice.nmt.proxy\",\"@version\":\"1.0.0\",\"result\":{\"srcLangType\":\"en\",\"tarLangType\":\"ko\",\"translatedText\":\"어제는 내 모든 고민이 너무 멀리 있는 것 같았어.\",\"engineType\":\"N2MT\",\"pivot\":null}}}\n"
     ]
    }
   ],
   "source": [
    "import os\n",
    "import sys\n",
    "import urllib.request\n",
    "client_id = \"Ef50Z0MooE3_wHfibEod\" # 개발자센터에서 발급받은 Client ID 값\n",
    "client_secret = \"f1EGdycc6O\" # 개발자센터에서 발급받은 Client Secret 값\n",
    "encText = urllib.parse.quote(\"Yesterday all my troubles seemed so far away.\")\n",
    "data = \"source=en&target=ko&text=\" + encText\n",
    "url = \"https://openapi.naver.com/v1/papago/n2mt\"\n",
    "request = urllib.request.Request(url)\n",
    "request.add_header(\"X-Naver-Client-Id\",client_id)\n",
    "request.add_header(\"X-Naver-Client-Secret\",client_secret)\n",
    "response = urllib.request.urlopen(request, data=data.encode(\"utf-8\"))\n",
    "rescode = response.getcode()\n",
    "if(rescode==200):\n",
    "    response_body = response.read()\n",
    "    print(response_body.decode('utf-8'))\n",
    "else:\n",
    "    print(\"Error Code:\" + rescode)"
   ]
  },
  {
   "cell_type": "markdown",
   "id": "68d10c85-94c0-4bd6-a2d4-c67e2c1cc3db",
   "metadata": {},
   "source": [
    "### Requests를 사용한 Papago 번역 API예제"
   ]
  },
  {
   "cell_type": "code",
   "execution_count": 1,
   "id": "ea5fca2d-e60e-4746-898a-e21ca7c54507",
   "metadata": {},
   "outputs": [
    {
     "name": "stdout",
     "output_type": "stream",
     "text": [
      "<class 'dict'> {'message': {'@type': 'response', '@service': 'naverservice.nmt.proxy', '@version': '1.0.0', 'result': {'srcLangType': 'ko', 'tarLangType': 'en', 'translatedText': 'At this moment, I magically take off the chain that tied me up.', 'engineType': 'N2MT', 'pivot': None}}}\n",
      "At this moment, I magically take off the chain that tied me up.\n"
     ]
    }
   ],
   "source": [
    "import requests\n",
    "\n",
    "client_id = \"Ef50Z0MooE3_wHfibEod\"\n",
    "client_secret = \"f1EGdycc6O\"\n",
    "url = \"https://openapi.naver.com/v1/papago/n2mt\"\n",
    "source_txt = \"지금 이 순간 마법처럼 날 묶어왔던 사슬을 벗어 던진다\"\n",
    "# 요청 헤더\n",
    "req_header = {\"X-Naver-Client-Id\": client_id, \"X-Naver-Client-Secret\": client_secret}\n",
    "# 요청 파라미터\n",
    "req_param = {\"source\": \"ko\", \"target\": \"en\", \"text\": source_txt}\n",
    "\n",
    "res = requests.post(url, headers = req_header, data = req_param)\n",
    "#print(res.status_code, res.ok)\n",
    "if res.ok:\n",
    "    #print(type(res.text), res.text)\n",
    "    print(type(res.json()), res.json())\n",
    "    trans_txt = res.json()['message']['result']['translatedText']\n",
    "    print(trans_txt)\n",
    "else:\n",
    "    print('ERROR CODE', res.status_code)"
   ]
  },
  {
   "cell_type": "code",
   "execution_count": 27,
   "outputs": [
    {
     "name": "stdout",
     "output_type": "stream",
     "text": [
      "['Yesterday all my troubles seemed so far away.\\n', '어제는 내 모든 고민이 너무 멀리 있는 것 같았어.\\n', \"Now it looks as though they're here to stay.\\n\", '이제 그들은 여기 머물려고 온 것처럼 보인다.\\n', 'Oh, I believe in yesterday.\\n', '오, 나는 어제를 다시 그리게 돼.\\n', \"Suddenly I'm not half the man I used to be.\\n\", '갑자기 나는 예전의 절반도 되지 않았다.\\n', \"There's a shadow hanging over me.\\n\", '그림자가 드리워져 있어요.\\n', 'Oh, yesterday came suddenly.\\n', '아, 어제가 갑자기 왔네요.\\n', \"Why she had to go, I don't know, she wouldn't say.\\n\", '왜 그녀가 가야만 했는지, 모르겠어요, 그녀는 말하려 하지 않았어요.\\n', 'I said something wrong, now I long for yesterday.\\n', '내가 잘못 말했는데, 어제가 그리워요.\\n', 'Yesterday love was such an easy game to play.\\n', '어제는 사랑이 정말 쉬운 게임이었다.\\n', 'Now I need a place to hide away.\\n', '이제 숨을 곳이 필요해\\n', 'Oh, I believe in yesterday.\\n', '오, 나는 어제를 다시 그리게 돼.\\n', \"Why she had to go, I don't know, she wouldn't say.\\n\", '왜 그녀가 가야만 했는지, 모르겠어요, 그녀는 말하려 하지 않았어요.\\n', 'I said something wrong, now I long for yesterday.\\n', '내가 잘못 말했는데, 어제가 그리워요.\\n', 'Yesterday love was such an easy game to play.\\n', '어제는 사랑이 정말 쉬운 게임이었다.\\n', 'Now I need a place to hide away.\\n', '이제 숨을 곳이 필요해\\n', 'Oh, I believe in yesterday.\\n', '오, 나는 어제를 다시 그리게 돼.\\n', 'Mm mm mm mm mm mm mm\\n', 'mm mm mm mm mm mm\\n']\n"
     ]
    }
   ],
   "source": [
    "from requests import Request, Session\n",
    "\n",
    "client_id = \"Ef50Z0MooE3_wHfibEod\"\n",
    "client_secret = \"f1EGdycc6O\"\n",
    "url = \"https://openapi.naver.com/v1/papago/n2mt\"\n",
    "\n",
    "# 요청 헤더\n",
    "req_header1 = {\"X-Naver-Client-Id\": client_id, \"X-Naver-Client-Secret\": client_secret}\n",
    "\n",
    "def get_text_file():\n",
    "    with open('data/yesterday.txt', 'r', encoding='utf-8') as file:\n",
    "        contents = file.read()\n",
    "        result_list = contents.split(\"\\n\")\n",
    "        return result_list\n",
    "\n",
    "def save_to_file(my_list):\n",
    "    with open('data/yesterday_trans.txt','w',encoding='utf-8') as f:\n",
    "        f.writelines(my_list)\n",
    "\n",
    "def main():\n",
    "    # Session 객체생성\n",
    "    session = Session()\n",
    "    source_list = get_text_file()\n",
    "    # list comprehension 으로 empty string 제거\n",
    "    source_list = [source for source in source_list if len(source) != 0]\n",
    "    # 요청 파라미터\n",
    "    req_para = {\"source\": \"en\", \"target\": \"ko\"}\n",
    "\n",
    "    result_list = []\n",
    "    for source_text in source_list:\n",
    "        req_para['text'] = source_text\n",
    "\n",
    "        req = Request('POST', url, headers=req_header1, data=req_para)\n",
    "        prepared = req.prepare()\n",
    "\n",
    "        res1 = session.send(prepared)\n",
    "        #print(type(res1), res.status_code)\n",
    "        if res1.ok:\n",
    "            try:\n",
    "                trans_txt1 = res1.json()['message']['result']['translatedText']\n",
    "                result_list.append(source_text + \"\\n\")\n",
    "                result_list.append(trans_txt1 + \"\\n\")\n",
    "            except Exception as ex:\n",
    "                print(\"Error\", res1.status_code, ex)\n",
    "                break\n",
    "    print(result_list)\n",
    "    save_to_file(result_list)\n",
    "\n",
    "main()"
   ],
   "metadata": {
    "collapsed": false,
    "pycharm": {
     "name": "#%%\n"
    }
   }
  },
  {
   "cell_type": "code",
   "execution_count": 13,
   "outputs": [],
   "source": [],
   "metadata": {
    "collapsed": false,
    "pycharm": {
     "name": "#%%\n"
    }
   }
  }
 ],
 "metadata": {
  "kernelspec": {
   "name": "pycharm-96fd260c",
   "language": "python",
   "display_name": "PyCharm (webscrap_source)"
  },
  "language_info": {
   "codemirror_mode": {
    "name": "ipython",
    "version": 3
   },
   "file_extension": ".py",
   "mimetype": "text/x-python",
   "name": "python",
   "nbconvert_exporter": "python",
   "pygments_lexer": "ipython3",
   "version": "3.9.7"
  }
 },
 "nbformat": 4,
 "nbformat_minor": 5
}