{
 "cells": [
  {
   "cell_type": "markdown",
   "id": "883b3fe1-b299-46d9-8dbc-f364bd8f93c7",
   "metadata": {},
   "source": [
    "### 국회의원 현황정보 수집/분석/시각화/저장\n",
    "- 이름과 ID 추출\n",
    "- 상세페이지 정보 추출\n",
    "- 상세정보들을 DataFrame으러 변환\n",
    "- 시각화(막대그래프, 히스토그램, 파이차트, 히트맵)\n",
    "- 테이블로 저장"
   ]
  },
  {
   "cell_type": "code",
   "execution_count": 9,
   "id": "53a5b6be-60c5-48f0-9686-97c59103563d",
   "metadata": {},
   "outputs": [
    {
     "name": "stdout",
     "output_type": "stream",
     "text": [
      "295\n",
      "295\n",
      "['9771230', '9771142', '9771174']\n"
     ]
    }
   ],
   "source": [
    "import requests\n",
    "from bs4 import BeautifulSoup\n",
    "import re\n",
    "\n",
    "url = 'https://www.assembly.go.kr/assm/memact/congressman/memCond/memCondListAjax.do'\n",
    "res_param_dict = {\n",
    "    'currentPage':1,\n",
    "    'rowPerPage':500\n",
    "}\n",
    "res = requests.get(url, params=res_param_dict)\n",
    "if res.ok:\n",
    "    soup = BeautifulSoup(res.text, 'html.parser')\n",
    "    print(len(soup.select('div.memberna_list dl dt a')))\n",
    "    atag_list = soup.select('div.memberna_list dl dt a')\n",
    "    \n",
    "    member_id_list = []\n",
    "    for atag in atag_list:\n",
    "        href = atag['href']\n",
    "        matched = re.search(r'(\\d+)', href)\n",
    "        if matched:\n",
    "            member_id = matched.group(0);\n",
    "        member_id_list.append(member_id)\n",
    "    print(len(member_id_list))\n",
    "    print(member_id_list[:3])"
   ]
  },
  {
   "cell_type": "code",
   "execution_count": 33,
   "id": "6f6d17ce-0e9a-4500-8500-8efa28e99c02",
   "metadata": {},
   "outputs": [
    {
     "name": "stdout",
     "output_type": "stream",
     "text": [
      "===> 스크래핑 시작\n",
      "1 https://www.assembly.go.kr/assm/memPop/memPopup.do?dept_cd=9771230\n",
      "2 https://www.assembly.go.kr/assm/memPop/memPopup.do?dept_cd=9771142\n",
      "3 https://www.assembly.go.kr/assm/memPop/memPopup.do?dept_cd=9771174\n",
      "4 https://www.assembly.go.kr/assm/memPop/memPopup.do?dept_cd=9771233\n",
      "5 https://www.assembly.go.kr/assm/memPop/memPopup.do?dept_cd=9771283\n",
      "6 https://www.assembly.go.kr/assm/memPop/memPopup.do?dept_cd=9770933\n",
      "7 https://www.assembly.go.kr/assm/memPop/memPopup.do?dept_cd=9771116\n",
      "8 https://www.assembly.go.kr/assm/memPop/memPopup.do?dept_cd=9771276\n",
      "9 https://www.assembly.go.kr/assm/memPop/memPopup.do?dept_cd=9771168\n",
      "10 https://www.assembly.go.kr/assm/memPop/memPopup.do?dept_cd=9771007\n",
      "11 https://www.assembly.go.kr/assm/memPop/memPopup.do?dept_cd=9771109\n",
      "12 https://www.assembly.go.kr/assm/memPop/memPopup.do?dept_cd=9771180\n",
      "13 https://www.assembly.go.kr/assm/memPop/memPopup.do?dept_cd=9770931\n",
      "14 https://www.assembly.go.kr/assm/memPop/memPopup.do?dept_cd=9771224\n",
      "15 https://www.assembly.go.kr/assm/memPop/memPopup.do?dept_cd=9771165\n",
      "16 https://www.assembly.go.kr/assm/memPop/memPopup.do?dept_cd=9770679\n",
      "17 https://www.assembly.go.kr/assm/memPop/memPopup.do?dept_cd=9771108\n",
      "18 https://www.assembly.go.kr/assm/memPop/memPopup.do?dept_cd=9770977\n",
      "19 https://www.assembly.go.kr/assm/memPop/memPopup.do?dept_cd=9771259\n",
      "20 https://www.assembly.go.kr/assm/memPop/memPopup.do?dept_cd=9770998\n",
      "21 https://www.assembly.go.kr/assm/memPop/memPopup.do?dept_cd=9770927\n",
      "22 https://www.assembly.go.kr/assm/memPop/memPopup.do?dept_cd=9771258\n",
      "23 https://www.assembly.go.kr/assm/memPop/memPopup.do?dept_cd=9770712\n",
      "24 https://www.assembly.go.kr/assm/memPop/memPopup.do?dept_cd=9771152\n",
      "25 https://www.assembly.go.kr/assm/memPop/memPopup.do?dept_cd=9771164\n",
      "26 https://www.assembly.go.kr/assm/memPop/memPopup.do?dept_cd=9771181\n",
      "27 https://www.assembly.go.kr/assm/memPop/memPopup.do?dept_cd=9770719\n",
      "28 https://www.assembly.go.kr/assm/memPop/memPopup.do?dept_cd=9770997\n",
      "29 https://www.assembly.go.kr/assm/memPop/memPopup.do?dept_cd=9771136\n",
      "30 https://www.assembly.go.kr/assm/memPop/memPopup.do?dept_cd=9770723\n",
      "31 https://www.assembly.go.kr/assm/memPop/memPopup.do?dept_cd=9771120\n",
      "32 https://www.assembly.go.kr/assm/memPop/memPopup.do?dept_cd=9771173\n",
      "33 https://www.assembly.go.kr/assm/memPop/memPopup.do?dept_cd=9770941\n",
      "34 https://www.assembly.go.kr/assm/memPop/memPopup.do?dept_cd=9770984\n",
      "35 https://www.assembly.go.kr/assm/memPop/memPopup.do?dept_cd=9771285\n",
      "36 https://www.assembly.go.kr/assm/memPop/memPopup.do?dept_cd=9771268\n",
      "37 https://www.assembly.go.kr/assm/memPop/memPopup.do?dept_cd=9770725\n",
      "38 https://www.assembly.go.kr/assm/memPop/memPopup.do?dept_cd=9770527\n",
      "39 https://www.assembly.go.kr/assm/memPop/memPopup.do?dept_cd=9771024\n",
      "40 https://www.assembly.go.kr/assm/memPop/memPopup.do?dept_cd=9771195\n",
      "41 https://www.assembly.go.kr/assm/memPop/memPopup.do?dept_cd=9770985\n",
      "42 https://www.assembly.go.kr/assm/memPop/memPopup.do?dept_cd=9771208\n",
      "43 https://www.assembly.go.kr/assm/memPop/memPopup.do?dept_cd=9771089\n",
      "44 https://www.assembly.go.kr/assm/memPop/memPopup.do?dept_cd=9771210\n",
      "45 https://www.assembly.go.kr/assm/memPop/memPopup.do?dept_cd=9771220\n",
      "46 https://www.assembly.go.kr/assm/memPop/memPopup.do?dept_cd=9771144\n",
      "47 https://www.assembly.go.kr/assm/memPop/memPopup.do?dept_cd=9771169\n",
      "48 https://www.assembly.go.kr/assm/memPop/memPopup.do?dept_cd=9771111\n",
      "49 https://www.assembly.go.kr/assm/memPop/memPopup.do?dept_cd=9771225\n",
      "50 https://www.assembly.go.kr/assm/memPop/memPopup.do?dept_cd=9770975\n",
      "51 https://www.assembly.go.kr/assm/memPop/memPopup.do?dept_cd=9770981\n",
      "52 https://www.assembly.go.kr/assm/memPop/memPopup.do?dept_cd=9770934\n",
      "53 https://www.assembly.go.kr/assm/memPop/memPopup.do?dept_cd=9771249\n",
      "54 https://www.assembly.go.kr/assm/memPop/memPopup.do?dept_cd=9771186\n",
      "55 https://www.assembly.go.kr/assm/memPop/memPopup.do?dept_cd=9771147\n",
      "56 https://www.assembly.go.kr/assm/memPop/memPopup.do?dept_cd=9771127\n",
      "57 https://www.assembly.go.kr/assm/memPop/memPopup.do?dept_cd=9771214\n",
      "58 https://www.assembly.go.kr/assm/memPop/memPopup.do?dept_cd=9771206\n",
      "59 https://www.assembly.go.kr/assm/memPop/memPopup.do?dept_cd=9771171\n",
      "60 https://www.assembly.go.kr/assm/memPop/memPopup.do?dept_cd=9771288\n",
      "61 https://www.assembly.go.kr/assm/memPop/memPopup.do?dept_cd=9771023\n",
      "62 https://www.assembly.go.kr/assm/memPop/memPopup.do?dept_cd=9771090\n",
      "63 https://www.assembly.go.kr/assm/memPop/memPopup.do?dept_cd=9771009\n",
      "64 https://www.assembly.go.kr/assm/memPop/memPopup.do?dept_cd=9771192\n",
      "65 https://www.assembly.go.kr/assm/memPop/memPopup.do?dept_cd=9770982\n",
      "66 https://www.assembly.go.kr/assm/memPop/memPopup.do?dept_cd=9770986\n",
      "67 https://www.assembly.go.kr/assm/memPop/memPopup.do?dept_cd=9770741\n",
      "68 https://www.assembly.go.kr/assm/memPop/memPopup.do?dept_cd=9771237\n",
      "69 https://www.assembly.go.kr/assm/memPop/memPopup.do?dept_cd=9770742\n",
      "70 https://www.assembly.go.kr/assm/memPop/memPopup.do?dept_cd=9770991\n",
      "71 https://www.assembly.go.kr/assm/memPop/memPopup.do?dept_cd=9771223\n",
      "72 https://www.assembly.go.kr/assm/memPop/memPopup.do?dept_cd=9771270\n",
      "73 https://www.assembly.go.kr/assm/memPop/memPopup.do?dept_cd=9771216\n",
      "74 https://www.assembly.go.kr/assm/memPop/memPopup.do?dept_cd=9771134\n",
      "75 https://www.assembly.go.kr/assm/memPop/memPopup.do?dept_cd=9771228\n",
      "76 https://www.assembly.go.kr/assm/memPop/memPopup.do?dept_cd=9770752\n",
      "77 https://www.assembly.go.kr/assm/memPop/memPopup.do?dept_cd=9770753\n",
      "78 https://www.assembly.go.kr/assm/memPop/memPopup.do?dept_cd=9770755\n",
      "79 https://www.assembly.go.kr/assm/memPop/memPopup.do?dept_cd=9771141\n",
      "80 https://www.assembly.go.kr/assm/memPop/memPopup.do?dept_cd=9771274\n",
      "81 https://www.assembly.go.kr/assm/memPop/memPopup.do?dept_cd=9771091\n",
      "82 https://www.assembly.go.kr/assm/memPop/memPopup.do?dept_cd=9771187\n",
      "83 https://www.assembly.go.kr/assm/memPop/memPopup.do?dept_cd=9771204\n",
      "84 https://www.assembly.go.kr/assm/memPop/memPopup.do?dept_cd=9771175\n",
      "85 https://www.assembly.go.kr/assm/memPop/memPopup.do?dept_cd=9771159\n",
      "86 https://www.assembly.go.kr/assm/memPop/memPopup.do?dept_cd=9770764\n",
      "87 https://www.assembly.go.kr/assm/memPop/memPopup.do?dept_cd=9770911\n",
      "88 https://www.assembly.go.kr/assm/memPop/memPopup.do?dept_cd=9771248\n",
      "89 https://www.assembly.go.kr/assm/memPop/memPopup.do?dept_cd=9770767\n",
      "90 https://www.assembly.go.kr/assm/memPop/memPopup.do?dept_cd=9770768\n",
      "91 https://www.assembly.go.kr/assm/memPop/memPopup.do?dept_cd=9770770\n",
      "92 https://www.assembly.go.kr/assm/memPop/memPopup.do?dept_cd=9770090\n",
      "93 https://www.assembly.go.kr/assm/memPop/memPopup.do?dept_cd=9771193\n",
      "94 https://www.assembly.go.kr/assm/memPop/memPopup.do?dept_cd=9771163\n",
      "95 https://www.assembly.go.kr/assm/memPop/memPopup.do?dept_cd=9771107\n",
      "96 https://www.assembly.go.kr/assm/memPop/memPopup.do?dept_cd=9770944\n",
      "97 https://www.assembly.go.kr/assm/memPop/memPopup.do?dept_cd=9771135\n",
      "98 https://www.assembly.go.kr/assm/memPop/memPopup.do?dept_cd=9771162\n",
      "99 https://www.assembly.go.kr/assm/memPop/memPopup.do?dept_cd=9771030\n",
      "100 https://www.assembly.go.kr/assm/memPop/memPopup.do?dept_cd=9770774\n",
      "101 https://www.assembly.go.kr/assm/memPop/memPopup.do?dept_cd=9770929\n",
      "102 https://www.assembly.go.kr/assm/memPop/memPopup.do?dept_cd=9770950\n",
      "103 https://www.assembly.go.kr/assm/memPop/memPopup.do?dept_cd=9770995\n",
      "104 https://www.assembly.go.kr/assm/memPop/memPopup.do?dept_cd=9770932\n",
      "105 https://www.assembly.go.kr/assm/memPop/memPopup.do?dept_cd=9771125\n",
      "106 https://www.assembly.go.kr/assm/memPop/memPopup.do?dept_cd=9770963\n",
      "107 https://www.assembly.go.kr/assm/memPop/memPopup.do?dept_cd=9771226\n",
      "108 https://www.assembly.go.kr/assm/memPop/memPopup.do?dept_cd=9770779\n",
      "109 https://www.assembly.go.kr/assm/memPop/memPopup.do?dept_cd=9771148\n",
      "110 https://www.assembly.go.kr/assm/memPop/memPopup.do?dept_cd=9771277\n",
      "111 https://www.assembly.go.kr/assm/memPop/memPopup.do?dept_cd=9771128\n",
      "112 https://www.assembly.go.kr/assm/memPop/memPopup.do?dept_cd=9771137\n",
      "113 https://www.assembly.go.kr/assm/memPop/memPopup.do?dept_cd=9770980\n",
      "114 https://www.assembly.go.kr/assm/memPop/memPopup.do?dept_cd=9770356\n",
      "115 https://www.assembly.go.kr/assm/memPop/memPopup.do?dept_cd=9771218\n",
      "116 https://www.assembly.go.kr/assm/memPop/memPopup.do?dept_cd=9771166\n",
      "117 https://www.assembly.go.kr/assm/memPop/memPopup.do?dept_cd=9771133\n",
      "118 https://www.assembly.go.kr/assm/memPop/memPopup.do?dept_cd=9771092\n",
      "119 https://www.assembly.go.kr/assm/memPop/memPopup.do?dept_cd=9770784\n",
      "120 https://www.assembly.go.kr/assm/memPop/memPopup.do?dept_cd=9771176\n",
      "121 https://www.assembly.go.kr/assm/memPop/memPopup.do?dept_cd=9771236\n",
      "122 https://www.assembly.go.kr/assm/memPop/memPopup.do?dept_cd=9771254\n",
      "123 https://www.assembly.go.kr/assm/memPop/memPopup.do?dept_cd=9770786\n",
      "124 https://www.assembly.go.kr/assm/memPop/memPopup.do?dept_cd=9771008\n",
      "125 https://www.assembly.go.kr/assm/memPop/memPopup.do?dept_cd=9771217\n",
      "126 https://www.assembly.go.kr/assm/memPop/memPopup.do?dept_cd=9770999\n",
      "127 https://www.assembly.go.kr/assm/memPop/memPopup.do?dept_cd=9771093\n",
      "128 https://www.assembly.go.kr/assm/memPop/memPopup.do?dept_cd=9771001\n",
      "129 https://www.assembly.go.kr/assm/memPop/memPopup.do?dept_cd=9770996\n",
      "130 https://www.assembly.go.kr/assm/memPop/memPopup.do?dept_cd=9771094\n",
      "131 https://www.assembly.go.kr/assm/memPop/memPopup.do?dept_cd=9770967\n",
      "132 https://www.assembly.go.kr/assm/memPop/memPopup.do?dept_cd=9771058\n",
      "133 https://www.assembly.go.kr/assm/memPop/memPopup.do?dept_cd=9771238\n",
      "134 https://www.assembly.go.kr/assm/memPop/memPopup.do?dept_cd=9770968\n",
      "135 https://www.assembly.go.kr/assm/memPop/memPopup.do?dept_cd=9771209\n",
      "136 https://www.assembly.go.kr/assm/memPop/memPopup.do?dept_cd=9771246\n",
      "137 https://www.assembly.go.kr/assm/memPop/memPopup.do?dept_cd=9771219\n",
      "138 https://www.assembly.go.kr/assm/memPop/memPopup.do?dept_cd=9771257\n",
      "139 https://www.assembly.go.kr/assm/memPop/memPopup.do?dept_cd=9770869\n",
      "140 https://www.assembly.go.kr/assm/memPop/memPopup.do?dept_cd=9770587\n",
      "141 https://www.assembly.go.kr/assm/memPop/memPopup.do?dept_cd=9770372\n",
      "142 https://www.assembly.go.kr/assm/memPop/memPopup.do?dept_cd=9771132\n",
      "143 https://www.assembly.go.kr/assm/memPop/memPopup.do?dept_cd=9771017\n",
      "144 https://www.assembly.go.kr/assm/memPop/memPopup.do?dept_cd=9771273\n",
      "145 https://www.assembly.go.kr/assm/memPop/memPopup.do?dept_cd=9771143\n",
      "146 https://www.assembly.go.kr/assm/memPop/memPopup.do?dept_cd=9771178\n",
      "147 https://www.assembly.go.kr/assm/memPop/memPopup.do?dept_cd=9771287\n",
      "148 https://www.assembly.go.kr/assm/memPop/memPopup.do?dept_cd=9771271\n",
      "149 https://www.assembly.go.kr/assm/memPop/memPopup.do?dept_cd=9771155\n",
      "150 https://www.assembly.go.kr/assm/memPop/memPopup.do?dept_cd=9771010\n",
      "151 https://www.assembly.go.kr/assm/memPop/memPopup.do?dept_cd=9771202\n",
      "152 https://www.assembly.go.kr/assm/memPop/memPopup.do?dept_cd=9771113\n",
      "153 https://www.assembly.go.kr/assm/memPop/memPopup.do?dept_cd=9771172\n",
      "154 https://www.assembly.go.kr/assm/memPop/memPopup.do?dept_cd=9771037\n",
      "155 https://www.assembly.go.kr/assm/memPop/memPopup.do?dept_cd=9771261\n",
      "156 https://www.assembly.go.kr/assm/memPop/memPopup.do?dept_cd=9770871\n",
      "157 https://www.assembly.go.kr/assm/memPop/memPopup.do?dept_cd=9770872\n",
      "158 https://www.assembly.go.kr/assm/memPop/memPopup.do?dept_cd=9771038\n",
      "159 https://www.assembly.go.kr/assm/memPop/memPopup.do?dept_cd=9771126\n",
      "160 https://www.assembly.go.kr/assm/memPop/memPopup.do?dept_cd=9771121\n",
      "161 https://www.assembly.go.kr/assm/memPop/memPopup.do?dept_cd=9770966\n",
      "162 https://www.assembly.go.kr/assm/memPop/memPopup.do?dept_cd=9771199\n",
      "163 https://www.assembly.go.kr/assm/memPop/memPopup.do?dept_cd=9770912\n",
      "164 https://www.assembly.go.kr/assm/memPop/memPopup.do?dept_cd=9771266\n",
      "165 https://www.assembly.go.kr/assm/memPop/memPopup.do?dept_cd=9771118\n",
      "166 https://www.assembly.go.kr/assm/memPop/memPopup.do?dept_cd=9770808\n",
      "167 https://www.assembly.go.kr/assm/memPop/memPopup.do?dept_cd=9771227\n",
      "168 https://www.assembly.go.kr/assm/memPop/memPopup.do?dept_cd=9771263\n",
      "169 https://www.assembly.go.kr/assm/memPop/memPopup.do?dept_cd=9770598\n",
      "170 https://www.assembly.go.kr/assm/memPop/memPopup.do?dept_cd=9771153\n",
      "171 https://www.assembly.go.kr/assm/memPop/memPopup.do?dept_cd=9770811\n",
      "172 https://www.assembly.go.kr/assm/memPop/memPopup.do?dept_cd=9771170\n",
      "173 https://www.assembly.go.kr/assm/memPop/memPopup.do?dept_cd=9771221\n",
      "174 https://www.assembly.go.kr/assm/memPop/memPopup.do?dept_cd=9770812\n",
      "175 https://www.assembly.go.kr/assm/memPop/memPopup.do?dept_cd=9771239\n",
      "176 https://www.assembly.go.kr/assm/memPop/memPopup.do?dept_cd=9771212\n",
      "177 https://www.assembly.go.kr/assm/memPop/memPopup.do?dept_cd=9771240\n",
      "178 https://www.assembly.go.kr/assm/memPop/memPopup.do?dept_cd=9771032\n",
      "179 https://www.assembly.go.kr/assm/memPop/memPopup.do?dept_cd=9770876\n",
      "180 https://www.assembly.go.kr/assm/memPop/memPopup.do?dept_cd=9770813\n",
      "181 https://www.assembly.go.kr/assm/memPop/memPopup.do?dept_cd=9770905\n",
      "182 https://www.assembly.go.kr/assm/memPop/memPopup.do?dept_cd=9771198\n",
      "183 https://www.assembly.go.kr/assm/memPop/memPopup.do?dept_cd=9771232\n",
      "184 https://www.assembly.go.kr/assm/memPop/memPopup.do?dept_cd=9771260\n",
      "185 https://www.assembly.go.kr/assm/memPop/memPopup.do?dept_cd=9771028\n",
      "186 https://www.assembly.go.kr/assm/memPop/memPopup.do?dept_cd=9770602\n",
      "187 https://www.assembly.go.kr/assm/memPop/memPopup.do?dept_cd=9771154\n",
      "188 https://www.assembly.go.kr/assm/memPop/memPopup.do?dept_cd=9770414\n",
      "189 https://www.assembly.go.kr/assm/memPop/memPopup.do?dept_cd=9771207\n",
      "190 https://www.assembly.go.kr/assm/memPop/memPopup.do?dept_cd=9771098\n",
      "191 https://www.assembly.go.kr/assm/memPop/memPopup.do?dept_cd=9771151\n",
      "192 https://www.assembly.go.kr/assm/memPop/memPopup.do?dept_cd=9771185\n",
      "193 https://www.assembly.go.kr/assm/memPop/memPopup.do?dept_cd=9771284\n",
      "194 https://www.assembly.go.kr/assm/memPop/memPopup.do?dept_cd=9771269\n",
      "195 https://www.assembly.go.kr/assm/memPop/memPopup.do?dept_cd=9771003\n",
      "196 https://www.assembly.go.kr/assm/memPop/memPopup.do?dept_cd=9771251\n",
      "197 https://www.assembly.go.kr/assm/memPop/memPopup.do?dept_cd=9771255\n",
      "198 https://www.assembly.go.kr/assm/memPop/memPopup.do?dept_cd=9771158\n",
      "199 https://www.assembly.go.kr/assm/memPop/memPopup.do?dept_cd=9771115\n",
      "200 https://www.assembly.go.kr/assm/memPop/memPopup.do?dept_cd=9771184\n",
      "201 https://www.assembly.go.kr/assm/memPop/memPopup.do?dept_cd=9771015\n",
      "202 https://www.assembly.go.kr/assm/memPop/memPopup.do?dept_cd=9770826\n",
      "203 https://www.assembly.go.kr/assm/memPop/memPopup.do?dept_cd=9771213\n",
      "204 https://www.assembly.go.kr/assm/memPop/memPopup.do?dept_cd=9771278\n",
      "205 https://www.assembly.go.kr/assm/memPop/memPopup.do?dept_cd=9770878\n",
      "206 https://www.assembly.go.kr/assm/memPop/memPopup.do?dept_cd=9771201\n",
      "207 https://www.assembly.go.kr/assm/memPop/memPopup.do?dept_cd=9771060\n",
      "208 https://www.assembly.go.kr/assm/memPop/memPopup.do?dept_cd=9771205\n",
      "209 https://www.assembly.go.kr/assm/memPop/memPopup.do?dept_cd=9770914\n",
      "210 https://www.assembly.go.kr/assm/memPop/memPopup.do?dept_cd=9771242\n",
      "211 https://www.assembly.go.kr/assm/memPop/memPopup.do?dept_cd=9771138\n",
      "212 https://www.assembly.go.kr/assm/memPop/memPopup.do?dept_cd=9770835\n",
      "213 https://www.assembly.go.kr/assm/memPop/memPopup.do?dept_cd=9771002\n",
      "214 https://www.assembly.go.kr/assm/memPop/memPopup.do?dept_cd=9771190\n",
      "215 https://www.assembly.go.kr/assm/memPop/memPopup.do?dept_cd=9771280\n",
      "216 https://www.assembly.go.kr/assm/memPop/memPopup.do?dept_cd=9770836\n",
      "217 https://www.assembly.go.kr/assm/memPop/memPopup.do?dept_cd=9771129\n",
      "218 https://www.assembly.go.kr/assm/memPop/memPopup.do?dept_cd=9770837\n",
      "219 https://www.assembly.go.kr/assm/memPop/memPopup.do?dept_cd=9771157\n",
      "220 https://www.assembly.go.kr/assm/memPop/memPopup.do?dept_cd=9770839\n",
      "221 https://www.assembly.go.kr/assm/memPop/memPopup.do?dept_cd=9771177\n",
      "222 https://www.assembly.go.kr/assm/memPop/memPopup.do?dept_cd=9771041\n",
      "223 https://www.assembly.go.kr/assm/memPop/memPopup.do?dept_cd=9771000\n",
      "224 https://www.assembly.go.kr/assm/memPop/memPopup.do?dept_cd=9771203\n",
      "225 https://www.assembly.go.kr/assm/memPop/memPopup.do?dept_cd=9771110\n",
      "226 https://www.assembly.go.kr/assm/memPop/memPopup.do?dept_cd=9770954\n",
      "227 https://www.assembly.go.kr/assm/memPop/memPopup.do?dept_cd=9771160\n",
      "228 https://www.assembly.go.kr/assm/memPop/memPopup.do?dept_cd=9771275\n",
      "229 https://www.assembly.go.kr/assm/memPop/memPopup.do?dept_cd=9771139\n",
      "230 https://www.assembly.go.kr/assm/memPop/memPopup.do?dept_cd=9771272\n",
      "231 https://www.assembly.go.kr/assm/memPop/memPopup.do?dept_cd=9770951\n",
      "232 https://www.assembly.go.kr/assm/memPop/memPopup.do?dept_cd=9771253\n",
      "233 https://www.assembly.go.kr/assm/memPop/memPopup.do?dept_cd=9770846\n",
      "234 https://www.assembly.go.kr/assm/memPop/memPopup.do?dept_cd=9770926\n",
      "235 https://www.assembly.go.kr/assm/memPop/memPopup.do?dept_cd=9771245\n",
      "236 https://www.assembly.go.kr/assm/memPop/memPopup.do?dept_cd=9771140\n",
      "237 https://www.assembly.go.kr/assm/memPop/memPopup.do?dept_cd=9770881\n",
      "238 https://www.assembly.go.kr/assm/memPop/memPopup.do?dept_cd=9771012\n",
      "239 https://www.assembly.go.kr/assm/memPop/memPopup.do?dept_cd=9771150\n",
      "240 https://www.assembly.go.kr/assm/memPop/memPopup.do?dept_cd=9771103\n",
      "241 https://www.assembly.go.kr/assm/memPop/memPopup.do?dept_cd=9771006\n",
      "242 https://www.assembly.go.kr/assm/memPop/memPopup.do?dept_cd=9771189\n",
      "243 https://www.assembly.go.kr/assm/memPop/memPopup.do?dept_cd=9771114\n",
      "244 https://www.assembly.go.kr/assm/memPop/memPopup.do?dept_cd=9771068\n",
      "245 https://www.assembly.go.kr/assm/memPop/memPopup.do?dept_cd=9771122\n",
      "246 https://www.assembly.go.kr/assm/memPop/memPopup.do?dept_cd=9771264\n",
      "247 https://www.assembly.go.kr/assm/memPop/memPopup.do?dept_cd=9771229\n",
      "248 https://www.assembly.go.kr/assm/memPop/memPopup.do?dept_cd=9770450\n",
      "249 https://www.assembly.go.kr/assm/memPop/memPopup.do?dept_cd=9771247\n",
      "250 https://www.assembly.go.kr/assm/memPop/memPopup.do?dept_cd=9771243\n",
      "251 https://www.assembly.go.kr/assm/memPop/memPopup.do?dept_cd=9770973\n",
      "252 https://www.assembly.go.kr/assm/memPop/memPopup.do?dept_cd=9771156\n",
      "253 https://www.assembly.go.kr/assm/memPop/memPopup.do?dept_cd=9770990\n",
      "254 https://www.assembly.go.kr/assm/memPop/memPopup.do?dept_cd=9770456\n",
      "255 https://www.assembly.go.kr/assm/memPop/memPopup.do?dept_cd=9771262\n",
      "256 https://www.assembly.go.kr/assm/memPop/memPopup.do?dept_cd=9771244\n",
      "257 https://www.assembly.go.kr/assm/memPop/memPopup.do?dept_cd=9771235\n",
      "258 https://www.assembly.go.kr/assm/memPop/memPopup.do?dept_cd=9771215\n",
      "259 https://www.assembly.go.kr/assm/memPop/memPopup.do?dept_cd=9770883\n",
      "260 https://www.assembly.go.kr/assm/memPop/memPopup.do?dept_cd=9771250\n",
      "261 https://www.assembly.go.kr/assm/memPop/memPopup.do?dept_cd=9770852\n",
      "262 https://www.assembly.go.kr/assm/memPop/memPopup.do?dept_cd=9771117\n",
      "263 https://www.assembly.go.kr/assm/memPop/memPopup.do?dept_cd=9771112\n",
      "264 https://www.assembly.go.kr/assm/memPop/memPopup.do?dept_cd=9771282\n",
      "265 https://www.assembly.go.kr/assm/memPop/memPopup.do?dept_cd=9771119\n",
      "266 https://www.assembly.go.kr/assm/memPop/memPopup.do?dept_cd=9771252\n",
      "267 https://www.assembly.go.kr/assm/memPop/memPopup.do?dept_cd=9771279\n",
      "268 https://www.assembly.go.kr/assm/memPop/memPopup.do?dept_cd=9770952\n",
      "269 https://www.assembly.go.kr/assm/memPop/memPopup.do?dept_cd=9771188\n",
      "270 https://www.assembly.go.kr/assm/memPop/memPopup.do?dept_cd=9771194\n",
      "271 https://www.assembly.go.kr/assm/memPop/memPopup.do?dept_cd=9771231\n",
      "272 https://www.assembly.go.kr/assm/memPop/memPopup.do?dept_cd=9771267\n",
      "273 https://www.assembly.go.kr/assm/memPop/memPopup.do?dept_cd=9770962\n",
      "274 https://www.assembly.go.kr/assm/memPop/memPopup.do?dept_cd=9771286\n",
      "275 https://www.assembly.go.kr/assm/memPop/memPopup.do?dept_cd=9771234\n",
      "276 https://www.assembly.go.kr/assm/memPop/memPopup.do?dept_cd=9770858\n",
      "277 https://www.assembly.go.kr/assm/memPop/memPopup.do?dept_cd=9771197\n",
      "278 https://www.assembly.go.kr/assm/memPop/memPopup.do?dept_cd=9771241\n",
      "279 https://www.assembly.go.kr/assm/memPop/memPopup.do?dept_cd=9771211\n",
      "280 https://www.assembly.go.kr/assm/memPop/memPopup.do?dept_cd=9770859\n",
      "281 https://www.assembly.go.kr/assm/memPop/memPopup.do?dept_cd=9771182\n",
      "282 https://www.assembly.go.kr/assm/memPop/memPopup.do?dept_cd=9771196\n",
      "283 https://www.assembly.go.kr/assm/memPop/memPopup.do?dept_cd=9771256\n",
      "284 https://www.assembly.go.kr/assm/memPop/memPopup.do?dept_cd=9771149\n",
      "285 https://www.assembly.go.kr/assm/memPop/memPopup.do?dept_cd=9771179\n",
      "286 https://www.assembly.go.kr/assm/memPop/memPopup.do?dept_cd=9770886\n",
      "287 https://www.assembly.go.kr/assm/memPop/memPopup.do?dept_cd=9771146\n",
      "288 https://www.assembly.go.kr/assm/memPop/memPopup.do?dept_cd=9771167\n",
      "289 https://www.assembly.go.kr/assm/memPop/memPopup.do?dept_cd=9770676\n",
      "290 https://www.assembly.go.kr/assm/memPop/memPopup.do?dept_cd=9770864\n",
      "291 https://www.assembly.go.kr/assm/memPop/memPopup.do?dept_cd=9771183\n",
      "292 https://www.assembly.go.kr/assm/memPop/memPopup.do?dept_cd=9771145\n",
      "293 https://www.assembly.go.kr/assm/memPop/memPopup.do?dept_cd=9771130\n",
      "294 https://www.assembly.go.kr/assm/memPop/memPopup.do?dept_cd=9771161\n",
      "295 https://www.assembly.go.kr/assm/memPop/memPopup.do?dept_cd=9770936\n",
      "295\n",
      "===> 스크래핑 끝\n"
     ]
    }
   ],
   "source": [
    "import requests\n",
    "from bs4 import BeautifulSoup\n",
    "import re\n",
    "from urllib.parse import urljoin\n",
    "\n",
    "print('===> 스크래핑 시작')\n",
    "member_detail_list = []\n",
    "for idx, mem_id in enumerate(member_id_list,1):\n",
    "    detail_url = f'https://www.assembly.go.kr/assm/memPop/memPopup.do?dept_cd={mem_id}'\n",
    "    print(idx, detail_url)\n",
    "    res = requests.get(detail_url)\n",
    "    if res.ok:\n",
    "        soup = BeautifulSoup(res.text, 'html.parser')\n",
    "        \n",
    "        # 1명의 정보를 저장할 dict\n",
    "        member_detail_dict = {}\n",
    "    \n",
    "        dt_list = [dt_tag.text for dt_tag in soup.select('dl.pro_detail dt')]\n",
    "       \n",
    "        dd_list=[]\n",
    "        for dd_tag in soup.select('dl.pro_detail dd'):\n",
    "            pattern = re.compile(f'[\\n\\r\\t]')\n",
    "            dd_text = pattern.sub('', dd_tag.text.strip()).replace(\" \",\"\")\n",
    "            dd_list.append(dd_text)\n",
    "        \n",
    "        member_detail_dict = dict(zip(dt_list, dd_list))\n",
    "        \n",
    "        for div_tag in soup.select('div.profile'):\n",
    "            member_detail_dict['이름']=div_tag.find('h4').text\n",
    "            \n",
    "            img_tag = div_tag.select('img')\n",
    "            if img_tag:\n",
    "                member_detail_dict['이미지'] = urljoin(detail_url, img_tag[0]['src'])\n",
    "                \n",
    "            member_detail_dict['생년월일'] = div_tag.select_one('li:nth-of-type(4)').text\n",
    "            # 1명의 정보가 저장된 dict를 list에 추가하기\n",
    "            member_detail_list.append(member_detail_dict)\n",
    "        \n",
    "print(len(member_detail_list))\n",
    "print('===> 스크래핑 끝')"
   ]
  },
  {
   "cell_type": "code",
   "execution_count": 35,
   "id": "bf3c8351-b86a-4134-861f-478c6097d635",
   "metadata": {},
   "outputs": [],
   "source": [
    "import json\n",
    "\n",
    "with open('data/member.json', 'w') as file:\n",
    "    json.dump(member_detail_list, file)"
   ]
  },
  {
   "cell_type": "code",
   "execution_count": 37,
   "id": "e2526a7d-d9aa-4e1c-8e3c-12dfbb05b18c",
   "metadata": {},
   "outputs": [
    {
     "name": "stdout",
     "output_type": "stream",
     "text": [
      "(295, 16)\n"
     ]
    }
   ],
   "source": [
    "import pandas as pd\n",
    "\n",
    "member_df = pd.read_json('data/member.json')\n",
    "print(member_df.shape)"
   ]
  },
  {
   "cell_type": "code",
   "execution_count": 38,
   "id": "d1adf82f-8d1a-4c29-8678-774415fc824c",
   "metadata": {},
   "outputs": [
    {
     "data": {
      "text/html": [
       "<div>\n",
       "<style scoped>\n",
       "    .dataframe tbody tr th:only-of-type {\n",
       "        vertical-align: middle;\n",
       "    }\n",
       "\n",
       "    .dataframe tbody tr th {\n",
       "        vertical-align: top;\n",
       "    }\n",
       "\n",
       "    .dataframe thead th {\n",
       "        text-align: right;\n",
       "    }\n",
       "</style>\n",
       "<table border=\"1\" class=\"dataframe\">\n",
       "  <thead>\n",
       "    <tr style=\"text-align: right;\">\n",
       "      <th></th>\n",
       "      <th>정당</th>\n",
       "      <th>선거구</th>\n",
       "      <th>소속위원회</th>\n",
       "      <th>당선횟수</th>\n",
       "      <th>사무실 전화</th>\n",
       "      <th>사무실 호실</th>\n",
       "      <th>홈페이지</th>\n",
       "      <th>이메일</th>\n",
       "      <th>보좌관</th>\n",
       "      <th>비서관</th>\n",
       "      <th>비서</th>\n",
       "      <th>취미, 특기</th>\n",
       "      <th>의원실 안내</th>\n",
       "      <th>이름</th>\n",
       "      <th>이미지</th>\n",
       "      <th>생년월일</th>\n",
       "    </tr>\n",
       "  </thead>\n",
       "  <tbody>\n",
       "    <tr>\n",
       "      <th>0</th>\n",
       "      <td>국민의힘</td>\n",
       "      <td>경남창원시성산구</td>\n",
       "      <td>보건복지위원회</td>\n",
       "      <td>재선(19대,21대)</td>\n",
       "      <td>02-784-1751</td>\n",
       "      <td>의원회관937호</td>\n",
       "      <td>http://blog.naver.com/ggotop</td>\n",
       "      <td>ggotop@naver.com</td>\n",
       "      <td>김홍광,한영애</td>\n",
       "      <td>지상훈,최광림</td>\n",
       "      <td>김영록,안효상,이유진,홍지형,김지훈</td>\n",
       "      <td></td>\n",
       "      <td></td>\n",
       "      <td>강기윤</td>\n",
       "      <td>https://www.assembly.go.kr/photo/9771230.jpg</td>\n",
       "      <td>1960-06-04</td>\n",
       "    </tr>\n",
       "    <tr>\n",
       "      <th>1</th>\n",
       "      <td>국민의힘</td>\n",
       "      <td>대구동구을</td>\n",
       "      <td>국방위원회,정치개혁특별위원회</td>\n",
       "      <td>초선(21대)</td>\n",
       "      <td>02-784-5275</td>\n",
       "      <td>의원회관341호</td>\n",
       "      <td></td>\n",
       "      <td>kds21341@naver.com</td>\n",
       "      <td>박홍규,정운태</td>\n",
       "      <td>유진영,윤미라</td>\n",
       "      <td>박순권,김광연,김현정,송민욱</td>\n",
       "      <td></td>\n",
       "      <td></td>\n",
       "      <td>강대식</td>\n",
       "      <td>https://www.assembly.go.kr/photo/9771142.jpg</td>\n",
       "      <td>1959-11-02</td>\n",
       "    </tr>\n",
       "  </tbody>\n",
       "</table>\n",
       "</div>"
      ],
      "text/plain": [
       "     정당       선거구            소속위원회         당선횟수       사무실 전화    사무실 호실  \\\n",
       "0  국민의힘  경남창원시성산구          보건복지위원회  재선(19대,21대)  02-784-1751  의원회관937호   \n",
       "1  국민의힘     대구동구을  국방위원회,정치개혁특별위원회      초선(21대)  02-784-5275  의원회관341호   \n",
       "\n",
       "                           홈페이지                 이메일      보좌관      비서관  \\\n",
       "0  http://blog.naver.com/ggotop    ggotop@naver.com  김홍광,한영애  지상훈,최광림   \n",
       "1                                kds21341@naver.com  박홍규,정운태  유진영,윤미라   \n",
       "\n",
       "                    비서 취미, 특기 의원실 안내   이름  \\\n",
       "0  김영록,안효상,이유진,홍지형,김지훈                강기윤   \n",
       "1      박순권,김광연,김현정,송민욱                강대식   \n",
       "\n",
       "                                            이미지        생년월일  \n",
       "0  https://www.assembly.go.kr/photo/9771230.jpg  1960-06-04  \n",
       "1  https://www.assembly.go.kr/photo/9771142.jpg  1959-11-02  "
      ]
     },
     "execution_count": 38,
     "metadata": {},
     "output_type": "execute_result"
    }
   ],
   "source": [
    "member_df.head(2)"
   ]
  },
  {
   "cell_type": "code",
   "execution_count": 39,
   "id": "24ef184a-23ad-4de1-aa2b-6484a00b2413",
   "metadata": {},
   "outputs": [
    {
     "name": "stdout",
     "output_type": "stream",
     "text": [
      "<class 'pandas.core.frame.DataFrame'>\n",
      "RangeIndex: 295 entries, 0 to 294\n",
      "Data columns (total 16 columns):\n",
      " #   Column  Non-Null Count  Dtype \n",
      "---  ------  --------------  ----- \n",
      " 0   정당      295 non-null    object\n",
      " 1   선거구     295 non-null    object\n",
      " 2   소속위원회   295 non-null    object\n",
      " 3   당선횟수    295 non-null    object\n",
      " 4   사무실 전화  295 non-null    object\n",
      " 5   사무실 호실  295 non-null    object\n",
      " 6   홈페이지    295 non-null    object\n",
      " 7   이메일     295 non-null    object\n",
      " 8   보좌관     295 non-null    object\n",
      " 9   비서관     295 non-null    object\n",
      " 10  비서      295 non-null    object\n",
      " 11  취미, 특기  295 non-null    object\n",
      " 12  의원실 안내  295 non-null    object\n",
      " 13  이름      295 non-null    object\n",
      " 14  이미지     295 non-null    object\n",
      " 15  생년월일    295 non-null    object\n",
      "dtypes: object(16)\n",
      "memory usage: 37.0+ KB\n"
     ]
    }
   ],
   "source": [
    "member_df.info()"
   ]
  },
  {
   "cell_type": "code",
   "execution_count": 40,
   "id": "62aa6732-ae8d-4e15-856e-2d2e38c797c1",
   "metadata": {},
   "outputs": [
    {
     "data": {
      "text/plain": [
       "array(['국민의힘', '더불어민주당', '정의당', '국민의당', '무소속', '기본소득당', '시대전환'],\n",
       "      dtype=object)"
      ]
     },
     "execution_count": 40,
     "metadata": {},
     "output_type": "execute_result"
    }
   ],
   "source": [
    "member_df['정당'].unique()"
   ]
  },
  {
   "cell_type": "code",
   "execution_count": 41,
   "id": "f83724fb-181f-40a7-b002-8c9be04bd7ab",
   "metadata": {},
   "outputs": [
    {
     "data": {
      "text/plain": [
       "더불어민주당    172\n",
       "국민의힘      106\n",
       "정의당         6\n",
       "무소속         6\n",
       "국민의당        3\n",
       "기본소득당       1\n",
       "시대전환        1\n",
       "Name: 정당, dtype: int64"
      ]
     },
     "execution_count": 41,
     "metadata": {},
     "output_type": "execute_result"
    }
   ],
   "source": [
    "member_df['정당'].value_counts()"
   ]
  },
  {
   "cell_type": "code",
   "execution_count": 51,
   "id": "a66db161-b428-489e-91c1-9194e13010a5",
   "metadata": {},
   "outputs": [
    {
     "data": {
      "text/plain": [
       "초선(21대)                        149\n",
       "재선(20대,21대)                     60\n",
       "3선(19대,20대,21대)                 33\n",
       "4선(17대,19대,20대,21대)             10\n",
       "재선(19대,21대)                      9\n",
       "5선(17대,18대,19대,20대,21대)          7\n",
       "4선(18대,19대,20대,21대)              6\n",
       "3선(18대,19대,21대)                  3\n",
       "재선(17대,21대)                      2\n",
       "4선(16대,17대,18대,21대)              2\n",
       "5선(16대,17대,18대,20대,21대)          2\n",
       "3선(17대,19대,21대)                  2\n",
       "3선(18대,20대,21대)                  2\n",
       "4선(17대,18대,19대,21대)              1\n",
       "3선(15대,16대,21대)                  1\n",
       "6선(16대,17대,18대,19대,20대,21대)      1\n",
       "5선(16대,17대,18대,19대,21대)          1\n",
       "5선(15대,16대,19대,20대,21대)          1\n",
       "3선(17대,18대,21대)                  1\n",
       "재선(18대,21대)                      1\n",
       "5선(15대,16대,17대,18대,21대)          1\n",
       "Name: 당선횟수, dtype: int64"
      ]
     },
     "execution_count": 51,
     "metadata": {},
     "output_type": "execute_result"
    }
   ],
   "source": [
    "member_df['당선횟수'].value_counts()"
   ]
  },
  {
   "cell_type": "code",
   "execution_count": 52,
   "id": "6cb50c33-c8f9-4f95-909d-c649f7ab65cd",
   "metadata": {},
   "outputs": [
    {
     "data": {
      "text/plain": [
       "비례대표              47\n",
       "경남창원시성산구           1\n",
       "광주광산구갑             1\n",
       "전남담양군함평군영광군장성군     1\n",
       "강원원주시갑             1\n",
       "                  ..\n",
       "경남창원시의창구           1\n",
       "충남천안시을             1\n",
       "서울강북구을             1\n",
       "부산남구을              1\n",
       "서울양천구갑             1\n",
       "Name: 선거구, Length: 249, dtype: int64"
      ]
     },
     "execution_count": 52,
     "metadata": {},
     "output_type": "execute_result"
    }
   ],
   "source": [
    "member_df['선거구'].value_counts()"
   ]
  },
  {
   "cell_type": "code",
   "execution_count": 58,
   "id": "19b69c73-0623-4df8-bb96-d27a79bd0be8",
   "metadata": {},
   "outputs": [
    {
     "name": "stdout",
     "output_type": "stream",
     "text": [
      "<class 'pandas.core.series.Series'>\n",
      "<class 'pandas.core.strings.accessor.StringMethods'>\n"
     ]
    },
    {
     "data": {
      "text/html": [
       "<div>\n",
       "<style scoped>\n",
       "    .dataframe tbody tr th:only-of-type {\n",
       "        vertical-align: middle;\n",
       "    }\n",
       "\n",
       "    .dataframe tbody tr th {\n",
       "        vertical-align: top;\n",
       "    }\n",
       "\n",
       "    .dataframe thead th {\n",
       "        text-align: right;\n",
       "    }\n",
       "</style>\n",
       "<table border=\"1\" class=\"dataframe\">\n",
       "  <thead>\n",
       "    <tr style=\"text-align: right;\">\n",
       "      <th></th>\n",
       "      <th>당선횟수</th>\n",
       "      <th>당선횟수2</th>\n",
       "    </tr>\n",
       "  </thead>\n",
       "  <tbody>\n",
       "    <tr>\n",
       "      <th>0</th>\n",
       "      <td>재선(19대,21대)</td>\n",
       "      <td>재선</td>\n",
       "    </tr>\n",
       "    <tr>\n",
       "      <th>1</th>\n",
       "      <td>초선(21대)</td>\n",
       "      <td>초선</td>\n",
       "    </tr>\n",
       "    <tr>\n",
       "      <th>2</th>\n",
       "      <td>초선(21대)</td>\n",
       "      <td>초선</td>\n",
       "    </tr>\n",
       "    <tr>\n",
       "      <th>3</th>\n",
       "      <td>초선(21대)</td>\n",
       "      <td>초선</td>\n",
       "    </tr>\n",
       "  </tbody>\n",
       "</table>\n",
       "</div>"
      ],
      "text/plain": [
       "          당선횟수 당선횟수2\n",
       "0  재선(19대,21대)    재선\n",
       "1      초선(21대)    초선\n",
       "2      초선(21대)    초선\n",
       "3      초선(21대)    초선"
      ]
     },
     "execution_count": 58,
     "metadata": {},
     "output_type": "execute_result"
    }
   ],
   "source": [
    "# 당선횟수2 컬럼을 새로 추가\n",
    "# ex. 재선(20대,21대) => 재선\n",
    "print(type(member_df['당선횟수']))\n",
    "print(type(member_df['당선횟수'].str))\n",
    "\n",
    "# Series 객체를 StringMethods 객체로 변환(문자열 슬라이싱을 하기 위해)\n",
    "temp_str = member_df['당선횟수'].str\n",
    "# 2글자 슬라이싱 값을 당선횟수2라는 컬럼으로 저장\n",
    "member_df['당선횟수2'] = temp_str[:2]\n",
    "\n",
    "member_df.loc[:3,['당선횟수', '당선횟수2']]"
   ]
  },
  {
   "cell_type": "code",
   "execution_count": 59,
   "id": "5a839f29-9996-43ae-837b-bcc494badb7d",
   "metadata": {},
   "outputs": [
    {
     "data": {
      "text/plain": [
       "초선    149\n",
       "재선     72\n",
       "3선     42\n",
       "4선     19\n",
       "5선     12\n",
       "6선      1\n",
       "Name: 당선횟수2, dtype: int64"
      ]
     },
     "execution_count": 59,
     "metadata": {},
     "output_type": "execute_result"
    }
   ],
   "source": [
    "member_df['당선횟수2'].value_counts()"
   ]
  },
  {
   "cell_type": "code",
   "execution_count": 62,
   "id": "85789765-5da4-427f-8ead-b44ef132ad84",
   "metadata": {},
   "outputs": [
    {
     "data": {
      "text/html": [
       "<div>\n",
       "<style scoped>\n",
       "    .dataframe tbody tr th:only-of-type {\n",
       "        vertical-align: middle;\n",
       "    }\n",
       "\n",
       "    .dataframe tbody tr th {\n",
       "        vertical-align: top;\n",
       "    }\n",
       "\n",
       "    .dataframe thead th {\n",
       "        text-align: right;\n",
       "    }\n",
       "</style>\n",
       "<table border=\"1\" class=\"dataframe\">\n",
       "  <thead>\n",
       "    <tr style=\"text-align: right;\">\n",
       "      <th></th>\n",
       "      <th>정당</th>\n",
       "      <th>선거구</th>\n",
       "      <th>소속위원회</th>\n",
       "      <th>당선횟수</th>\n",
       "      <th>사무실 전화</th>\n",
       "      <th>사무실 호실</th>\n",
       "      <th>홈페이지</th>\n",
       "      <th>이메일</th>\n",
       "      <th>보좌관</th>\n",
       "      <th>비서관</th>\n",
       "      <th>비서</th>\n",
       "      <th>취미, 특기</th>\n",
       "      <th>의원실 안내</th>\n",
       "      <th>이름</th>\n",
       "      <th>이미지</th>\n",
       "      <th>생년월일</th>\n",
       "      <th>당선횟수2</th>\n",
       "    </tr>\n",
       "  </thead>\n",
       "  <tbody>\n",
       "    <tr>\n",
       "      <th>91</th>\n",
       "      <td>무소속</td>\n",
       "      <td>대전서구갑</td>\n",
       "      <td></td>\n",
       "      <td>6선(16대,17대,18대,19대,20대,21대)</td>\n",
       "      <td>02-6788-6461</td>\n",
       "      <td>의원회관804호</td>\n",
       "      <td></td>\n",
       "      <td>pbs2100@gmail.com</td>\n",
       "      <td>박승규,송석근</td>\n",
       "      <td>김민숙,좌승택</td>\n",
       "      <td>이영해,조연길,최지연,임규보,이초롱</td>\n",
       "      <td></td>\n",
       "      <td></td>\n",
       "      <td>박병석</td>\n",
       "      <td>https://www.assembly.go.kr/photo/9770090.jpg</td>\n",
       "      <td>1952-01-25</td>\n",
       "      <td>6선</td>\n",
       "    </tr>\n",
       "  </tbody>\n",
       "</table>\n",
       "</div>"
      ],
      "text/plain": [
       "     정당    선거구 소속위원회                         당선횟수        사무실 전화    사무실 호실  \\\n",
       "91  무소속  대전서구갑        6선(16대,17대,18대,19대,20대,21대)  02-6788-6461  의원회관804호   \n",
       "\n",
       "   홈페이지                이메일      보좌관      비서관                   비서 취미, 특기  \\\n",
       "91       pbs2100@gmail.com  박승규,송석근  김민숙,좌승택  이영해,조연길,최지연,임규보,이초롱          \n",
       "\n",
       "   의원실 안내   이름                                           이미지        생년월일 당선횟수2  \n",
       "91         박병석  https://www.assembly.go.kr/photo/9770090.jpg  1952-01-25    6선  "
      ]
     },
     "execution_count": 62,
     "metadata": {},
     "output_type": "execute_result"
    }
   ],
   "source": [
    "# 6선 국회의원 누구?\n",
    "member_df.loc[member_df['당선횟수2']=='6선']"
   ]
  },
  {
   "cell_type": "code",
   "execution_count": 67,
   "id": "4c9fd129-d3bc-4d45-8f27-8e2d4c18e530",
   "metadata": {},
   "outputs": [
    {
     "data": {
      "text/html": [
       "<div>\n",
       "<style scoped>\n",
       "    .dataframe tbody tr th:only-of-type {\n",
       "        vertical-align: middle;\n",
       "    }\n",
       "\n",
       "    .dataframe tbody tr th {\n",
       "        vertical-align: top;\n",
       "    }\n",
       "\n",
       "    .dataframe thead th {\n",
       "        text-align: right;\n",
       "    }\n",
       "</style>\n",
       "<table border=\"1\" class=\"dataframe\">\n",
       "  <thead>\n",
       "    <tr style=\"text-align: right;\">\n",
       "      <th></th>\n",
       "      <th>선거구</th>\n",
       "      <th>선거구2</th>\n",
       "    </tr>\n",
       "  </thead>\n",
       "  <tbody>\n",
       "    <tr>\n",
       "      <th>0</th>\n",
       "      <td>경남창원시성산구</td>\n",
       "      <td>경남</td>\n",
       "    </tr>\n",
       "    <tr>\n",
       "      <th>1</th>\n",
       "      <td>대구동구을</td>\n",
       "      <td>대구</td>\n",
       "    </tr>\n",
       "    <tr>\n",
       "      <th>2</th>\n",
       "      <td>경기안양시만안구</td>\n",
       "      <td>경기</td>\n",
       "    </tr>\n",
       "    <tr>\n",
       "      <th>3</th>\n",
       "      <td>경남진주시을</td>\n",
       "      <td>경남</td>\n",
       "    </tr>\n",
       "    <tr>\n",
       "      <th>4</th>\n",
       "      <td>비례대표</td>\n",
       "      <td>비례</td>\n",
       "    </tr>\n",
       "    <tr>\n",
       "      <th>...</th>\n",
       "      <td>...</td>\n",
       "      <td>...</td>\n",
       "    </tr>\n",
       "    <tr>\n",
       "      <th>290</th>\n",
       "      <td>경기고양시병</td>\n",
       "      <td>경기</td>\n",
       "    </tr>\n",
       "    <tr>\n",
       "      <th>291</th>\n",
       "      <td>대구수성구을</td>\n",
       "      <td>대구</td>\n",
       "    </tr>\n",
       "    <tr>\n",
       "      <th>292</th>\n",
       "      <td>부산중구영도구</td>\n",
       "      <td>부산</td>\n",
       "    </tr>\n",
       "    <tr>\n",
       "      <th>293</th>\n",
       "      <td>대전중구</td>\n",
       "      <td>대전</td>\n",
       "    </tr>\n",
       "    <tr>\n",
       "      <th>294</th>\n",
       "      <td>서울양천구갑</td>\n",
       "      <td>서울</td>\n",
       "    </tr>\n",
       "  </tbody>\n",
       "</table>\n",
       "<p>295 rows × 2 columns</p>\n",
       "</div>"
      ],
      "text/plain": [
       "          선거구 선거구2\n",
       "0    경남창원시성산구   경남\n",
       "1       대구동구을   대구\n",
       "2    경기안양시만안구   경기\n",
       "3      경남진주시을   경남\n",
       "4        비례대표   비례\n",
       "..        ...  ...\n",
       "290    경기고양시병   경기\n",
       "291    대구수성구을   대구\n",
       "292   부산중구영도구   부산\n",
       "293      대전중구   대전\n",
       "294    서울양천구갑   서울\n",
       "\n",
       "[295 rows x 2 columns]"
      ]
     },
     "execution_count": 67,
     "metadata": {},
     "output_type": "execute_result"
    }
   ],
   "source": [
    "# 선거구2 만들기 => ex. 서울, 강원, 경기...\n",
    "temp_gu = member_df['선거구'].str\n",
    "member_df['선거구2'] = temp_gu[:2]\n",
    "\n",
    "member_df.loc[:, ['선거구','선거구2']]"
   ]
  },
  {
   "cell_type": "code",
   "execution_count": 71,
   "id": "7e00c96b-7caf-476e-93fb-ece8b354e6b0",
   "metadata": {},
   "outputs": [
    {
     "data": {
      "text/plain": [
       "경기    58\n",
       "비례    47\n",
       "서울    47\n",
       "부산    18\n",
       "경남    16\n",
       "경북    13\n",
       "인천    13\n",
       "충남    11\n",
       "대구    11\n",
       "전북    10\n",
       "전남    10\n",
       "광주     8\n",
       "강원     8\n",
       "충북     7\n",
       "대전     7\n",
       "울산     6\n",
       "제주     3\n",
       "세종     2\n",
       "Name: 선거구2, dtype: int64"
      ]
     },
     "execution_count": 71,
     "metadata": {},
     "output_type": "execute_result"
    }
   ],
   "source": [
    "member_df['선거구2'].value_counts() # 횟수"
   ]
  },
  {
   "cell_type": "code",
   "execution_count": 72,
   "id": "4b02bc89-4e92-4107-a371-1f5baf4dbb10",
   "metadata": {},
   "outputs": [
    {
     "data": {
      "text/plain": [
       "경기    0.196610\n",
       "비례    0.159322\n",
       "서울    0.159322\n",
       "부산    0.061017\n",
       "경남    0.054237\n",
       "경북    0.044068\n",
       "인천    0.044068\n",
       "충남    0.037288\n",
       "대구    0.037288\n",
       "전북    0.033898\n",
       "전남    0.033898\n",
       "광주    0.027119\n",
       "강원    0.027119\n",
       "충북    0.023729\n",
       "대전    0.023729\n",
       "울산    0.020339\n",
       "제주    0.010169\n",
       "세종    0.006780\n",
       "Name: 선거구2, dtype: float64"
      ]
     },
     "execution_count": 72,
     "metadata": {},
     "output_type": "execute_result"
    }
   ],
   "source": [
    "member_df['선거구2'].value_counts(normalize=True) # normalize -> %"
   ]
  },
  {
   "cell_type": "code",
   "execution_count": 74,
   "id": "2c7f23b1-3d69-45a8-90d9-8adcfb5dc8aa",
   "metadata": {},
   "outputs": [
    {
     "data": {
      "text/plain": [
       "0    1960-06-04\n",
       "1    1959-11-02\n",
       "2    1963-05-27\n",
       "3    1971-03-03\n",
       "4    1961-04-26\n",
       "Name: 생년월일, dtype: object"
      ]
     },
     "execution_count": 74,
     "metadata": {},
     "output_type": "execute_result"
    }
   ],
   "source": [
    "member_df['생년월일'].head()"
   ]
  },
  {
   "cell_type": "code",
   "execution_count": 77,
   "id": "fcb5aabe-6afb-4bd1-a86e-37dff3cfa0f0",
   "metadata": {},
   "outputs": [
    {
     "data": {
      "text/html": [
       "<div>\n",
       "<style scoped>\n",
       "    .dataframe tbody tr th:only-of-type {\n",
       "        vertical-align: middle;\n",
       "    }\n",
       "\n",
       "    .dataframe tbody tr th {\n",
       "        vertical-align: top;\n",
       "    }\n",
       "\n",
       "    .dataframe thead th {\n",
       "        text-align: right;\n",
       "    }\n",
       "</style>\n",
       "<table border=\"1\" class=\"dataframe\">\n",
       "  <thead>\n",
       "    <tr style=\"text-align: right;\">\n",
       "      <th></th>\n",
       "      <th>year</th>\n",
       "      <th>month</th>\n",
       "      <th>day</th>\n",
       "    </tr>\n",
       "  </thead>\n",
       "  <tbody>\n",
       "    <tr>\n",
       "      <th>0</th>\n",
       "      <td>1960</td>\n",
       "      <td>6</td>\n",
       "      <td>4</td>\n",
       "    </tr>\n",
       "    <tr>\n",
       "      <th>1</th>\n",
       "      <td>1959</td>\n",
       "      <td>11</td>\n",
       "      <td>2</td>\n",
       "    </tr>\n",
       "    <tr>\n",
       "      <th>2</th>\n",
       "      <td>1963</td>\n",
       "      <td>5</td>\n",
       "      <td>27</td>\n",
       "    </tr>\n",
       "    <tr>\n",
       "      <th>3</th>\n",
       "      <td>1971</td>\n",
       "      <td>3</td>\n",
       "      <td>3</td>\n",
       "    </tr>\n",
       "  </tbody>\n",
       "</table>\n",
       "</div>"
      ],
      "text/plain": [
       "   year  month  day\n",
       "0  1960      6    4\n",
       "1  1959     11    2\n",
       "2  1963      5   27\n",
       "3  1971      3    3"
      ]
     },
     "execution_count": 77,
     "metadata": {},
     "output_type": "execute_result"
    }
   ],
   "source": [
    "# DatetimeIndex 객체를 사용해서 생년월일의 컬럼 값을 year, month, day로 각각 추출\n",
    "# year, month, day 3개의 컬럼을 새로 추가 -> int64(int타입)\n",
    "member_df['year'] = pd.DatetimeIndex(member_df['생년월일']).year\n",
    "member_df['month'] = pd.DatetimeIndex(member_df['생년월일']).month\n",
    "member_df['day'] = pd.DatetimeIndex(member_df['생년월일']).day\n",
    "\n",
    "member_df.loc[:3,['year','month','day']]"
   ]
  },
  {
   "cell_type": "code",
   "execution_count": 81,
   "id": "fbfb5b80-4718-40bd-ae41-65a145c19e46",
   "metadata": {},
   "outputs": [
    {
     "data": {
      "text/html": [
       "<div>\n",
       "<style scoped>\n",
       "    .dataframe tbody tr th:only-of-type {\n",
       "        vertical-align: middle;\n",
       "    }\n",
       "\n",
       "    .dataframe tbody tr th {\n",
       "        vertical-align: top;\n",
       "    }\n",
       "\n",
       "    .dataframe thead th {\n",
       "        text-align: right;\n",
       "    }\n",
       "</style>\n",
       "<table border=\"1\" class=\"dataframe\">\n",
       "  <thead>\n",
       "    <tr style=\"text-align: right;\">\n",
       "      <th></th>\n",
       "      <th>이름</th>\n",
       "      <th>정당</th>\n",
       "    </tr>\n",
       "  </thead>\n",
       "  <tbody>\n",
       "    <tr>\n",
       "      <th>79</th>\n",
       "      <td>류호정</td>\n",
       "      <td>정의당</td>\n",
       "    </tr>\n",
       "  </tbody>\n",
       "</table>\n",
       "</div>"
      ],
      "text/plain": [
       "     이름   정당\n",
       "79  류호정  정의당"
      ]
     },
     "execution_count": 81,
     "metadata": {},
     "output_type": "execute_result"
    }
   ],
   "source": [
    "# 가장 나이가 어린 사람은?\n",
    "member_df.loc[member_df['year']==member_df['year'].max(), ['이름', '정당']] # year가 가장 크면 나이가 가장 적음"
   ]
  },
  {
   "cell_type": "code",
   "execution_count": 82,
   "id": "30448f80-b5e3-4744-b6ff-227f7eba9a5e",
   "metadata": {},
   "outputs": [
    {
     "data": {
      "text/plain": [
       "31"
      ]
     },
     "execution_count": 82,
     "metadata": {},
     "output_type": "execute_result"
    }
   ],
   "source": [
    "# 나이를 계산하는 함수 정의하기\n",
    "from datetime import date\n",
    "\n",
    "# 인자로 받는 birth는 datetime.date 객체\n",
    "def cal_age(birth):\n",
    "    today = date.today() # 현재 date\n",
    "    age = today.year - birth.year - ((today.month, today.day) < (birth.month, birth.day))\n",
    "    return age\n",
    "\n",
    "cal_age(date(1990,11,24))"
   ]
  },
  {
   "cell_type": "code",
   "execution_count": 88,
   "id": "d8a4f67b-1fb9-44f3-bd5b-07f26ca4c86c",
   "metadata": {},
   "outputs": [
    {
     "name": "stdout",
     "output_type": "stream",
     "text": [
      "295\n"
     ]
    },
    {
     "data": {
      "text/plain": [
       "[61, 62, 58, 50, 60, 50, 43, 51, 57, 48]"
      ]
     },
     "execution_count": 88,
     "metadata": {},
     "output_type": "execute_result"
    }
   ],
   "source": [
    "# Row별로 년,월,일 컬럼의 값으로 나이를 계산하고 계산된 나이값을 age_list에 추가하기\n",
    "age_list = []\n",
    "for idx, row in member_df.iterrows(): # iterrows() : index 출력\n",
    "    # print(idx, type(row), row['year'])\n",
    "    age = cal_age(date(row['year'], row['month'], row['day']))\n",
    "    age_list.append(age)\n",
    "print(len(age_list)) \n",
    "age_list[:10]"
   ]
  },
  {
   "cell_type": "code",
   "execution_count": 89,
   "id": "22e922a0-ca1e-454d-a8b3-42fc8d2d0817",
   "metadata": {},
   "outputs": [
    {
     "data": {
      "text/html": [
       "<div>\n",
       "<style scoped>\n",
       "    .dataframe tbody tr th:only-of-type {\n",
       "        vertical-align: middle;\n",
       "    }\n",
       "\n",
       "    .dataframe tbody tr th {\n",
       "        vertical-align: top;\n",
       "    }\n",
       "\n",
       "    .dataframe thead th {\n",
       "        text-align: right;\n",
       "    }\n",
       "</style>\n",
       "<table border=\"1\" class=\"dataframe\">\n",
       "  <thead>\n",
       "    <tr style=\"text-align: right;\">\n",
       "      <th></th>\n",
       "      <th>생년월일</th>\n",
       "      <th>나이</th>\n",
       "    </tr>\n",
       "  </thead>\n",
       "  <tbody>\n",
       "    <tr>\n",
       "      <th>0</th>\n",
       "      <td>1960-06-04</td>\n",
       "      <td>61</td>\n",
       "    </tr>\n",
       "    <tr>\n",
       "      <th>1</th>\n",
       "      <td>1959-11-02</td>\n",
       "      <td>62</td>\n",
       "    </tr>\n",
       "    <tr>\n",
       "      <th>2</th>\n",
       "      <td>1963-05-27</td>\n",
       "      <td>58</td>\n",
       "    </tr>\n",
       "    <tr>\n",
       "      <th>3</th>\n",
       "      <td>1971-03-03</td>\n",
       "      <td>50</td>\n",
       "    </tr>\n",
       "    <tr>\n",
       "      <th>4</th>\n",
       "      <td>1961-04-26</td>\n",
       "      <td>60</td>\n",
       "    </tr>\n",
       "  </tbody>\n",
       "</table>\n",
       "</div>"
      ],
      "text/plain": [
       "         생년월일  나이\n",
       "0  1960-06-04  61\n",
       "1  1959-11-02  62\n",
       "2  1963-05-27  58\n",
       "3  1971-03-03  50\n",
       "4  1961-04-26  60"
      ]
     },
     "execution_count": 89,
     "metadata": {},
     "output_type": "execute_result"
    }
   ],
   "source": [
    "# 나이 컬럼 추가\n",
    "member_df['나이'] = age_list\n",
    "member_df[['생년월일','나이']].head()"
   ]
  },
  {
   "cell_type": "code",
   "execution_count": 92,
   "id": "639eec77-6764-4759-b975-2ce8b3ec9934",
   "metadata": {},
   "outputs": [
    {
     "data": {
      "text/plain": [
       "Index(['정당', '선거구', '소속위원회', '당선횟수', '사무실 전화', '사무실 호실', '홈페이지', '이메일', '보좌관',\n",
       "       '비서관', '비서', '취미, 특기', '의원실 안내', '이름', '이미지', '생년월일', '당선횟수2', '선거구2',\n",
       "       'year', 'month', 'day', '나이'],\n",
       "      dtype='object')"
      ]
     },
     "execution_count": 92,
     "metadata": {},
     "output_type": "execute_result"
    }
   ],
   "source": [
    "member_df.columns"
   ]
  },
  {
   "cell_type": "code",
   "execution_count": 90,
   "id": "997c3aec-8e52-47c1-aedb-2bd693acad73",
   "metadata": {},
   "outputs": [
    {
     "data": {
      "text/plain": [
       "count    295.000000\n",
       "mean      56.667797\n",
       "std        7.352968\n",
       "min       29.000000\n",
       "25%       54.000000\n",
       "50%       58.000000\n",
       "75%       61.000000\n",
       "max       74.000000\n",
       "Name: 나이, dtype: float64"
      ]
     },
     "execution_count": 90,
     "metadata": {},
     "output_type": "execute_result"
    }
   ],
   "source": [
    "member_df['나이'].describe()"
   ]
  },
  {
   "cell_type": "code",
   "execution_count": 91,
   "id": "40c76cc2-7768-4449-9bb6-606b6de8f6fb",
   "metadata": {},
   "outputs": [
    {
     "data": {
      "text/plain": [
       "290    https://www.assembly.go.kr/photo/9771183.jpg\n",
       "291    https://www.assembly.go.kr/photo/9771145.jpg\n",
       "292    https://www.assembly.go.kr/photo/9771130.jpg\n",
       "293    https://www.assembly.go.kr/photo/9771161.jpg\n",
       "294    https://www.assembly.go.kr/photo/9770936.jpg\n",
       "Name: 이미지, dtype: object"
      ]
     },
     "execution_count": 91,
     "metadata": {},
     "output_type": "execute_result"
    }
   ],
   "source": [
    "member_df['이미지'].tail()"
   ]
  },
  {
   "cell_type": "markdown",
   "id": "e5020d67-dd40-424c-82c8-3d442cabad80",
   "metadata": {},
   "source": [
    "### 시각화(Visualization)\n",
    "- Image 출력 : IPython에서 제공하는 Image객체, display() 함수 사용\n",
    "- seaborn : countplot, distplot, heatmap\n",
    "- matplotlib : histogram, pie chart\n",
    "- 한글폰트 설정"
   ]
  },
  {
   "cell_type": "code",
   "execution_count": 103,
   "id": "d97ba85d-e5e3-4751-acf4-44e593f91a36",
   "metadata": {},
   "outputs": [
    {
     "name": "stdout",
     "output_type": "stream",
     "text": [
      "https://www.assembly.go.kr/photo/9770984.jpg\n",
      "https://www.assembly.go.kr/photo/9771116.jpg\n"
     ]
    }
   ],
   "source": [
    "from IPython.display import Image, display\n",
    "\n",
    "for img_url in member_df['이미지'].sample(2): # sample() 랜덤하게 출력\n",
    "    print(img_url) # img_url 출력\n",
    "    # display(Image(url=img_url)) # img_url에 해당하는 사진 출력"
   ]
  },
  {
   "cell_type": "code",
   "execution_count": 104,
   "id": "e7b71d85-4206-438e-8b8f-305927fc66a6",
   "metadata": {},
   "outputs": [],
   "source": [
    "%matplotlib inline"
   ]
  },
  {
   "cell_type": "code",
   "execution_count": 106,
   "id": "0f3ec71a-6f9b-40f6-b9a5-1a7bd2a43796",
   "metadata": {},
   "outputs": [],
   "source": [
    "import matplotlib\n",
    "import matplotlib.pyplot as plt\n",
    "import matplotlib.font_manager as fm\n",
    "import seaborn as sns"
   ]
  },
  {
   "cell_type": "code",
   "execution_count": 107,
   "id": "2ab78916-ef11-459a-889c-980c8b5fbe46",
   "metadata": {},
   "outputs": [
    {
     "name": "stdout",
     "output_type": "stream",
     "text": [
      "Malgun Gothic\n"
     ]
    }
   ],
   "source": [
    "# 한글 폰트 설정\n",
    "font_path = 'C:\\\\Windows\\\\Fonts\\\\malgun.ttf'\n",
    "font_prop = fm.FontProperties(fname=font_path).get_name()\n",
    "print(font_prop)\n",
    "# matplotlib의 rc(run command) 함수를 사용해서 폰트이름 설정\n",
    "matplotlib.rc('font', family=font_prop)"
   ]
  },
  {
   "cell_type": "markdown",
   "id": "0519a831-a6a6-4ccc-8181-dbbe92ba148f",
   "metadata": {},
   "source": [
    "#### Seaborn의 막대그래프\n",
    "- barplot : x축과 y축을 둘 다 설정 가능\n",
    "- countplot : x축이나 y축 중 하나만 설정 가능"
   ]
  },
  {
   "cell_type": "code",
   "execution_count": 108,
   "id": "13c0aea1-3704-4b6e-8ad9-73b9bffb9c1d",
   "metadata": {},
   "outputs": [
    {
     "data": {
      "text/plain": [
       "더불어민주당    172\n",
       "국민의힘      106\n",
       "정의당         6\n",
       "무소속         6\n",
       "국민의당        3\n",
       "기본소득당       1\n",
       "시대전환        1\n",
       "Name: 정당, dtype: int64"
      ]
     },
     "execution_count": 108,
     "metadata": {},
     "output_type": "execute_result"
    }
   ],
   "source": [
    "member_df['정당'].value_counts()"
   ]
  },
  {
   "cell_type": "code",
   "execution_count": 109,
   "id": "ea06ffb9-ff2b-4adc-83f5-6581b19c1941",
   "metadata": {},
   "outputs": [
    {
     "data": {
      "text/plain": [
       "Index(['더불어민주당', '국민의힘', '정의당', '무소속', '국민의당', '기본소득당', '시대전환'], dtype='object')"
      ]
     },
     "execution_count": 109,
     "metadata": {},
     "output_type": "execute_result"
    }
   ],
   "source": [
    "member_df['정당'].value_counts().index"
   ]
  },
  {
   "cell_type": "code",
   "execution_count": 116,
   "id": "74cac0a4-a944-410f-baf6-5c8ba9e9096a",
   "metadata": {},
   "outputs": [
    {
     "data": {
      "text/plain": [
       "<AxesSubplot:xlabel='당선횟수2', ylabel='count'>"
      ]
     },
     "execution_count": 116,
     "metadata": {},
     "output_type": "execute_result"
    },
    {
     "data": {
      "image/png": "[encoded data removed]",
      "text/plain": [
       "<Figure size 1296x864 with 2 Axes>"
      ]
     },
     "metadata": {
      "needs_background": "light"
     },
     "output_type": "display_data"
    }
   ],
   "source": [
    "figure, (axe1, axe2) = plt.subplots(nrows=2, ncols=1)\n",
    "figure.set_size_inches(18,12)\n",
    "\n",
    "sns.countplot(data=member_df, x='정당', ax=axe1, order=member_df['정당'].value_counts().index)\n",
    "sns.countplot(data=member_df, x='당선횟수2', ax=axe2, order=member_df['당선횟수2'].value_counts().index)"
   ]
  }
 ],
 "metadata": {
  "kernelspec": {
   "display_name": "Python 3 (ipykernel)",
   "language": "python",
   "name": "python3"
  },
  "language_info": {
   "codemirror_mode": {
    "name": "ipython",
    "version": 3
   },
   "file_extension": ".py",
   "mimetype": "text/x-python",
   "name": "python",
   "nbconvert_exporter": "python",
   "pygments_lexer": "ipython3",
   "version": "3.9.7"
  }
 },
 "nbformat": 4,
 "nbformat_minor": 5
}
