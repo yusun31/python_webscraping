{
 "cells": [
  {
   "cell_type": "markdown",
   "id": "570bf0ff-dd4c-4a6c-9143-4e60a58db6f3",
   "metadata": {},
   "source": [
    "### Url Library를 사용한 Papago 번역 API예제"
   ]
  },
  {
   "cell_type": "code",
   "execution_count": 2,
   "id": "b990ec24-8771-4d10-8341-05ed2e8c2bdf",
   "metadata": {},
   "outputs": [
    {
     "name": "stdout",
     "output_type": "stream",
     "text": [
      "{\"message\":{\"@type\":\"response\",\"@service\":\"naverservice.nmt.proxy\",\"@version\":\"1.0.0\",\"result\":{\"srcLangType\":\"en\",\"tarLangType\":\"ko\",\"translatedText\":\"어제는 내 모든 고민이 너무 멀리 있는 것 같았어.\",\"engineType\":\"N2MT\",\"pivot\":null}}}\n"
     ]
    }
   ],
   "source": [
    "import os\n",
    "import sys\n",
    "import urllib.request\n",
    "client_id = \"Ef50Z0MooE3_wHfibEod\" # 개발자센터에서 발급받은 Client ID 값\n",
    "client_secret = \"f1EGdycc6O\" # 개발자센터에서 발급받은 Client Secret 값\n",
    "encText = urllib.parse.quote(\"Yesterday all my troubles seemed so far away.\")\n",
    "data = \"source=en&target=ko&text=\" + encText\n",
    "url = \"https://openapi.naver.com/v1/papago/n2mt\"\n",
    "request = urllib.request.Request(url)\n",
    "request.add_header(\"X-Naver-Client-Id\",client_id)\n",
    "request.add_header(\"X-Naver-Client-Secret\",client_secret)\n",
    "response = urllib.request.urlopen(request, data=data.encode(\"utf-8\"))\n",
    "rescode = response.getcode()\n",
    "if(rescode==200):\n",
    "    response_body = response.read()\n",
    "    print(response_body.decode('utf-8'))\n",
    "else:\n",
    "    print(\"Error Code:\" + rescode)"
   ]
  },
  {
   "cell_type": "markdown",
   "id": "68d10c85-94c0-4bd6-a2d4-c67e2c1cc3db",
   "metadata": {},
   "source": [
    "### Requests를 사용한 Papago 번역 API예제"
   ]
  },
  {
   "cell_type": "code",
   "execution_count": 20,
   "id": "ea5fca2d-e60e-4746-898a-e21ca7c54507",
   "metadata": {},
   "outputs": [
    {
     "name": "stdout",
     "output_type": "stream",
     "text": [
      "<class 'dict'> {'message': {'@type': 'response', '@service': 'naverservice.nmt.proxy', '@version': '1.0.0', 'result': {'srcLangType': 'ko', 'tarLangType': 'en', 'translatedText': 'At this moment, I magically take off the chain that tied me up.', 'engineType': 'N2MT', 'pivot': None}}}\n",
      "At this moment, I magically take off the chain that tied me up.\n"
     ]
    }
   ],
   "source": [
    "import requests\n",
    "\n",
    "client_id = \"Ef50Z0MooE3_wHfibEod\"\n",
    "client_secret = \"f1EGdycc6O\"\n",
    "url = \"https://openapi.naver.com/v1/papago/n2mt\"\n",
    "source_txt = \"지금 이 순간 마법처럼 날 묶어왔던 사슬을 벗어 던진다\"\n",
    "# 요청 헤더\n",
    "req_header = {\"X-Naver-Client-Id\": client_id, \"X-Naver-Client-Secret\": client_secret}\n",
    "# 요청 파라미터\n",
    "req_param = {\"source\": \"ko\", \"target\": \"en\", \"text\": source_txt}\n",
    "\n",
    "res = requests.post(url, headers = req_header, data = req_param)\n",
    "#print(res.status_code, res.ok)\n",
    "if res.ok:\n",
    "    #print(type(res.text), res.text)\n",
    "    print(type(res.json()), res.json())\n",
    "    trans_txt = res.json()['message']['result']['translatedText']\n",
    "    print(trans_txt)\n",
    "else:\n",
    "    print('ERROR CODE', res.status_code)"
   ]
  }
 ],
 "metadata": {
  "kernelspec": {
   "display_name": "Python 3 (ipykernel)",
   "language": "python",
   "name": "python3"
  },
  "language_info": {
   "codemirror_mode": {
    "name": "ipython",
    "version": 3
   },
   "file_extension": ".py",
   "mimetype": "text/x-python",
   "name": "python",
   "nbconvert_exporter": "python",
   "pygments_lexer": "ipython3",
   "version": "3.9.7"
  }
 },
 "nbformat": 4,
 "nbformat_minor": 5
}
