{
 "cells": [
  {
   "cell_type": "code",
   "execution_count": 21,
   "metadata": {
    "collapsed": false,
    "jupyter": {
     "outputs_hidden": false
    },
    "pycharm": {
     "name": "#%%\n"
    }
   },
   "outputs": [
    {
     "name": "stdout",
     "output_type": "stream",
     "text": [
      "Name: requests\n",
      "Version: 2.26.0\n",
      "Summary: Python HTTP for Humans.\n",
      "Home-page: https://requests.readthedocs.io\n",
      "Author: Kenneth Reitz\n",
      "Author-email: me@kennethreitz.org\n",
      "License: Apache 2.0\n",
      "Location: c:\\users\\yousu\\anaconda3\\lib\\site-packages\n",
      "Requires: charset-normalizer, urllib3, certifi, idna\n",
      "Required-by: Sphinx, jupyterlab-server, cookiecutter, conda, conda-repo-cli, conda-build, anaconda-project, anaconda-client\n"
     ]
    }
   ],
   "source": [
    "!pip show requests"
   ]
  },
  {
   "cell_type": "code",
   "execution_count": 22,
   "metadata": {
    "collapsed": false,
    "jupyter": {
     "outputs_hidden": false
    },
    "pycharm": {
     "name": "#%%\n"
    }
   },
   "outputs": [
    {
     "name": "stdout",
     "output_type": "stream",
     "text": [
      "Requirement already satisfied: selenium in c:\\users\\yousu\\anaconda3\\lib\\site-packages (4.1.0)\n",
      "Requirement already satisfied: trio-websocket~=0.9 in c:\\users\\yousu\\anaconda3\\lib\\site-packages (from selenium) (0.9.2)\n",
      "Requirement already satisfied: urllib3[secure]~=1.26 in c:\\users\\yousu\\anaconda3\\lib\\site-packages (from selenium) (1.26.7)\n",
      "Requirement already satisfied: trio~=0.17 in c:\\users\\yousu\\anaconda3\\lib\\site-packages (from selenium) (0.19.0)\n",
      "Requirement already satisfied: sniffio in c:\\users\\yousu\\anaconda3\\lib\\site-packages (from trio~=0.17->selenium) (1.2.0)\n",
      "Requirement already satisfied: sortedcontainers in c:\\users\\yousu\\anaconda3\\lib\\site-packages (from trio~=0.17->selenium) (2.4.0)\n",
      "Requirement already satisfied: attrs>=19.2.0 in c:\\users\\yousu\\anaconda3\\lib\\site-packages (from trio~=0.17->selenium) (21.2.0)\n",
      "Requirement already satisfied: idna in c:\\users\\yousu\\anaconda3\\lib\\site-packages (from trio~=0.17->selenium) (3.2)\n",
      "Requirement already satisfied: cffi>=1.14 in c:\\users\\yousu\\anaconda3\\lib\\site-packages (from trio~=0.17->selenium) (1.14.6)\n",
      "Requirement already satisfied: outcome in c:\\users\\yousu\\anaconda3\\lib\\site-packages (from trio~=0.17->selenium) (1.1.0)\n",
      "Requirement already satisfied: async-generator>=1.9 in c:\\users\\yousu\\anaconda3\\lib\\site-packages (from trio~=0.17->selenium) (1.10)\n",
      "Requirement already satisfied: pycparser in c:\\users\\yousu\\anaconda3\\lib\\site-packages (from cffi>=1.14->trio~=0.17->selenium) (2.20)\n",
      "Requirement already satisfied: wsproto>=0.14 in c:\\users\\yousu\\anaconda3\\lib\\site-packages (from trio-websocket~=0.9->selenium) (1.0.0)\n",
      "Requirement already satisfied: pyOpenSSL>=0.14 in c:\\users\\yousu\\anaconda3\\lib\\site-packages (from urllib3[secure]~=1.26->selenium) (21.0.0)\n",
      "Requirement already satisfied: cryptography>=1.3.4 in c:\\users\\yousu\\anaconda3\\lib\\site-packages (from urllib3[secure]~=1.26->selenium) (3.4.8)\n",
      "Requirement already satisfied: certifi in c:\\users\\yousu\\anaconda3\\lib\\site-packages (from urllib3[secure]~=1.26->selenium) (2021.10.8)\n",
      "Requirement already satisfied: six>=1.5.2 in c:\\users\\yousu\\anaconda3\\lib\\site-packages (from pyOpenSSL>=0.14->urllib3[secure]~=1.26->selenium) (1.16.0)\n",
      "Requirement already satisfied: h11<1,>=0.9.0 in c:\\users\\yousu\\anaconda3\\lib\\site-packages (from wsproto>=0.14->trio-websocket~=0.9->selenium) (0.13.0)\n"
     ]
    }
   ],
   "source": [
    "!pip install selenium"
   ]
  },
  {
   "cell_type": "code",
   "execution_count": 23,
   "metadata": {
    "collapsed": false,
    "jupyter": {
     "outputs_hidden": false
    },
    "pycharm": {
     "name": "#%%\n"
    }
   },
   "outputs": [
    {
     "name": "stdout",
     "output_type": "stream",
     "text": [
      "Name: selenium\n",
      "Version: 4.1.0\n",
      "Summary: \n",
      "Home-page: https://www.selenium.dev\n",
      "Author: \n",
      "Author-email: \n",
      "License: Apache 2.0\n",
      "Location: c:\\users\\yousu\\anaconda3\\lib\\site-packages\n",
      "Requires: trio, urllib3, trio-websocket\n",
      "Required-by: \n"
     ]
    }
   ],
   "source": [
    "!pip show selenium"
   ]
  },
  {
   "cell_type": "code",
   "execution_count": 24,
   "metadata": {
    "collapsed": false,
    "jupyter": {
     "outputs_hidden": false
    },
    "pycharm": {
     "name": "#%%\n"
    }
   },
   "outputs": [
    {
     "name": "stdout",
     "output_type": "stream",
     "text": [
      "Requirement already satisfied: pymysql in c:\\users\\yousu\\anaconda3\\lib\\site-packages (1.0.2)\n"
     ]
    }
   ],
   "source": [
    "!pip install pymysql"
   ]
  },
  {
   "cell_type": "code",
   "execution_count": 25,
   "metadata": {
    "collapsed": false,
    "jupyter": {
     "outputs_hidden": false
    },
    "pycharm": {
     "name": "#%%\n"
    }
   },
   "outputs": [
    {
     "name": "stdout",
     "output_type": "stream",
     "text": [
      "Name: PyMySQL\n",
      "Version: 1.0.2\n",
      "Summary: Pure Python MySQL Driver\n",
      "Home-page: https://github.com/PyMySQL/PyMySQL/\n",
      "Author: yutaka.matsubara\n",
      "Author-email: yutaka.matsubara@gmail.com\n",
      "License: \"MIT\"\n",
      "Location: c:\\users\\yousu\\anaconda3\\lib\\site-packages\n",
      "Requires: \n",
      "Required-by: \n"
     ]
    }
   ],
   "source": [
    "!pip show pymysql"
   ]
  },
  {
   "cell_type": "code",
   "execution_count": 1,
   "metadata": {
    "collapsed": false,
    "jupyter": {
     "outputs_hidden": false
    },
    "pycharm": {
     "name": "#%%\n"
    }
   },
   "outputs": [],
   "source": [
    "import requests\n",
    "from bs4 import BeautifulSoup\n",
    "from urllib.parse import urljoin"
   ]
  },
  {
   "cell_type": "code",
   "execution_count": 2,
   "metadata": {
    "collapsed": false,
    "jupyter": {
     "outputs_hidden": false
    },
    "pycharm": {
     "name": "#%%\n"
    }
   },
   "outputs": [
    {
     "name": "stdout",
     "output_type": "stream",
     "text": [
      "200 True\n",
      "<class 'requests.models.Response'>\n",
      "응답헤더  {'date': 'Thu, 27 Jan 2022 05:51:50 GMT', 'cache-control': 'no-cache', 'expires': 'Thu, 01 Jan 1970 00:00:00 GMT', 'set-cookie': 'JSESSIONID=CC4EC8B6885534A2ECC30B9E722C758F; Path=/main; HttpOnly', 'content-language': 'ko-KR', 'vary': 'Accept-Encoding', 'content-encoding': 'gzip', 'transfer-encoding': 'chunked', 'content-type': 'text/html;charset=EUC-KR', 'referrer-policy': 'unsafe-url', 'server': 'nfront'}\n",
      "요청헤더  {'user-agent': 'Mozilla/5.0 (Windows NT 10.0; Win64; x64) AppleWebKit/537.36 (KHTML, like Gecko) Chrome/97.0.4692.99 Safari/537.36', 'Accept-Encoding': 'gzip, deflate, br', 'Accept': '*/*', 'Connection': 'keep-alive'}\n"
     ]
    }
   ],
   "source": [
    "url = 'https://news.naver.com/main/main.naver?mode=LSD&mid=shm&sid1=101'\n",
    "req_header_dict = {\n",
    "   'user-agent' : 'Mozilla/5.0 (Windows NT 10.0; Win64; x64) AppleWebKit/537.36 (KHTML, like Gecko) Chrome/97.0.4692.99 Safari/537.36'\n",
    "\n",
    "}\n",
    "res = requests.get(url, headers=req_header_dict)\n",
    "print(res.status_code, res.ok)\n",
    "print(type(res))\n",
    "print(\"응답헤더 \", res.headers)\n",
    "print(\"요청헤더 \", res.request.headers)"
   ]
  },
  {
   "cell_type": "code",
   "execution_count": 4,
   "metadata": {
    "collapsed": false,
    "jupyter": {
     "outputs_hidden": false
    },
    "pycharm": {
     "name": "#%%\n"
    }
   },
   "outputs": [
    {
     "name": "stdout",
     "output_type": "stream",
     "text": [
      "239\n",
      "1 =  https://news.naver.com/main/read.naver?mode=LSD&mid=shm&sid1=101&oid=081&aid=0003247806\n",
      "2 = 역대급 기록 쓴 삼성전자…지난해 매출 279조·영업이익 51조 https://news.naver.com/main/read.naver?mode=LSD&mid=shm&sid1=101&oid=081&aid=0003247806\n",
      "3 = 삼성전자 작년 매출 279.6조 사상 최대, 영업이익 43% ↑  51.6조…올해 전망은 https://news.naver.com/main/read.naver?mode=LSD&mid=shm&sid1=101&oid=023&aid=0003669044\n",
      "4 = 삼성전자, 인텔 제치고 반도체 세계 1위…초호황에 작년 최대 실적(종합) https://news.naver.com/main/read.naver?mode=LSD&mid=shm&sid1=101&oid=277&aid=0005036675\n",
      "5 = 삼성전자, 작년 반도체 매출 94조…인텔 제치고 ‘세계 1위’ https://news.naver.com/main/read.naver?mode=LSD&mid=shm&sid1=101&oid=021&aid=0002501471\n",
      "6 =  https://news.naver.com/main/read.naver?mode=LSD&mid=shm&sid1=101&oid=056&aid=0011203104\n",
      "7 = 금융위 “미국 긴축 여파 등으로 금융시장 변동성 불가피” https://news.naver.com/main/read.naver?mode=LSD&mid=shm&sid1=101&oid=056&aid=0011203104\n",
      "8 = 금융위, 금융리스크 점검회의…“시장불안심리 과도한지 점검” https://news.naver.com/main/read.naver?mode=LSD&mid=shm&sid1=101&oid=032&aid=0003125414\n",
      "9 = 금융당국 \"금융시장 불안심리 과도한지 점검 필요\"(종합) https://news.naver.com/main/read.naver?mode=LSD&mid=shm&sid1=101&oid=018&aid=0005135361\n",
      "10 = 금융위, 시장 리스크 점검…\"변동성 확대 불가피\" https://news.naver.com/main/read.naver?mode=LSD&mid=shm&sid1=101&oid=119&aid=0002571046\n",
      "11 =  https://news.naver.com/main/read.naver?mode=LSD&mid=shm&sid1=101&oid=277&aid=0005036770\n",
      "12 = 'LG엔솔' 개장 10분만에 2조 거래·외국인 매도 폭탄 '20% 급락' https://news.naver.com/main/read.naver?mode=LSD&mid=shm&sid1=101&oid=277&aid=0005036770\n",
      "13 = '소문난 잔치'될까…LG엔솔 오늘 첫 코스피 거래 https://news.naver.com/main/read.naver?mode=LSD&mid=shm&sid1=101&oid=003&aid=0010968904\n",
      "14 = LG에너지솔루션, '따상' 실패…초반 하락세 https://news.naver.com/main/read.naver?mode=LSD&mid=shm&sid1=101&oid=088&aid=0000742499\n",
      "15 = '단숨에 시총 112조' 공룡 LG엔솔, 코스피 데뷔…시초가 -18% 하회 https://news.naver.com/main/read.naver?mode=LSD&mid=shm&sid1=101&oid=421&aid=0005870327\n",
      "16 =  https://news.naver.com/main/read.naver?mode=LSD&mid=shm&sid1=101&oid=003&aid=0010970359\n",
      "17 = 금감원 종합·부문검사→정기·수시검사로 개편(종합) https://news.naver.com/main/read.naver?mode=LSD&mid=shm&sid1=101&oid=003&aid=0010970359\n",
      "18 =  https://news.naver.com/main/read.naver?mode=LSD&mid=shm&sid1=101&oid=014&aid=0004779500\n",
      "19 = 정은보, '윤석헌표' 종합검사 3년만 다시 폐지 https://news.naver.com/main/read.naver?mode=LSD&mid=shm&sid1=101&oid=014&aid=0004779500\n",
      "20 =  https://news.naver.com/main/read.naver?mode=LSD&mid=shm&sid1=101&oid=417&aid=0000779604\n",
      "21 = 삼성바이오로직스, 친환경 경영 박차… '탄소경영섹터 아너스’ 수상 https://news.naver.com/main/read.naver?mode=LSD&mid=shm&sid1=101&oid=417&aid=0000779604\n",
      "22 =  https://news.naver.com/main/read.naver?mode=LSD&mid=shm&sid1=101&oid=469&aid=0000654907\n",
      "23 = SKT·LGU+, CDP 기후변화대응 평가 'A 등급' 획득…\"ESG 리더십 선도\" https://news.naver.com/main/read.naver?mode=LSD&mid=shm&sid1=101&oid=469&aid=0000654907\n",
      "24 =  https://news.naver.com/main/read.naver?mode=LSD&mid=shm&sid1=101&oid=032&aid=0003125403\n",
      "25 = 국세청 연말정산 오류로 821명 개인정보 유출···“피해 구제 등 안내” https://news.naver.com/main/read.naver?mode=LSD&mid=shm&sid1=101&oid=032&aid=0003125403\n",
      "26 =  https://news.naver.com/main/read.naver?mode=LSD&mid=shm&sid1=101&oid=421&aid=0005871183\n",
      "27 = 국세청 연말정산 사이트 로그인 오류…821명 개인정보 유출 https://news.naver.com/main/read.naver?mode=LSD&mid=shm&sid1=101&oid=421&aid=0005871183\n",
      "28 =  https://news.naver.com/main/read.naver?mode=LSD&mid=shm&sid1=101&oid=366&aid=0000790189\n",
      "29 = 삼성엔지니어링, 9년 만에 최대 실적... 영업이익 5000억원 https://news.naver.com/main/read.naver?mode=LSD&mid=shm&sid1=101&oid=366&aid=0000790189\n",
      "30 =  https://news.naver.com/main/read.naver?mode=LSD&mid=shm&sid1=101&oid=003&aid=0010970142\n",
      "31 = 삼성엔지니어링, 지난해 영업이익 5033억…9년 만에 최대 실적 https://news.naver.com/main/read.naver?mode=LSD&mid=shm&sid1=101&oid=003&aid=0010970142\n",
      "32 =  https://news.naver.com/main/read.naver?mode=LSD&mid=shm&sid1=101&oid=277&aid=0005036573\n",
      "33 = 권영수 LG에너지솔루션 부회장 \"주주 친화 정책 펼치겠다\" https://news.naver.com/main/read.naver?mode=LSD&mid=shm&sid1=101&oid=277&aid=0005036573\n",
      "34 = 권영수 부회장 “상장, 2차전지 사업 30년 결실이자 새 100년 향한 출발” https://news.naver.com/main/read.naver?mode=LSD&mid=shm&sid1=101&oid=021&aid=0002501508\n",
      "35 =  https://news.naver.com/main/read.naver?mode=LSD&mid=shm&sid1=101&oid=055&aid=0000949544\n",
      "36 = '환경호르몬' 아기욕조 피해자 위자료 5만 원씩 받는다 https://news.naver.com/main/read.naver?mode=LSD&mid=shm&sid1=101&oid=055&aid=0000949544\n",
      "37 =  https://news.naver.com/main/read.naver?mode=LSD&mid=shm&sid1=101&oid=215&aid=0001011738\n",
      "38 = '환경호르몬 아기욕조' 피해자들, 위자료 5만원씩 받는다 https://news.naver.com/main/read.naver?mode=LSD&mid=shm&sid1=101&oid=215&aid=0001011738\n",
      "39 =  https://news.naver.com/main/read.naver?mode=LSD&mid=shm&sid1=101&oid=003&aid=0010969895\n",
      "40 = 유가상승에 작년 수입금액 32%↑… 11년來 최고 https://news.naver.com/main/read.naver?mode=LSD&mid=shm&sid1=101&oid=003&aid=0010969895\n",
      "41 =  https://news.naver.com/main/read.naver?mode=LSD&mid=shm&sid1=101&oid=056&aid=0011203150\n",
      "42 = 지난해 수출·수입금액지수 역대 최고…교역조건은 나빠져 https://news.naver.com/main/read.naver?mode=LSD&mid=shm&sid1=101&oid=056&aid=0011203150\n",
      "43 =  https://news.naver.com/main/read.naver?mode=LSD&mid=shm&sid1=101&oid=366&aid=0000790091\n",
      "44 = 작년 벤처투자, ‘사상 최대’ 7.7조원… 투자유치 1위 두나무 https://news.naver.com/main/read.naver?mode=LSD&mid=shm&sid1=101&oid=366&aid=0000790091\n",
      "45 =  https://news.naver.com/main/read.naver?mode=LSD&mid=shm&sid1=101&oid=421&aid=0005870843\n",
      "46 = 中企 장관 \"文정부 모태펀드 출자 적극, 2조 이상 벤처펀드 조성 예정\"(종합) https://news.naver.com/main/read.naver?mode=LSD&mid=shm&sid1=101&oid=421&aid=0005870843\n",
      "47 =  https://news.naver.com/main/read.naver?mode=LSD&mid=shm&sid1=101&oid=001&aid=0012945135\n",
      "48 = 삼성 \"올해 반도체 투자계획, 부품 공급망 이슈 고려해 수립\" https://news.naver.com/main/read.naver?mode=LSD&mid=shm&sid1=101&oid=001&aid=0012945135\n",
      "49 =  https://news.naver.com/main/read.naver?mode=LSD&mid=shm&sid1=101&oid=014&aid=0004779665\n",
      "50 = 삼성전자 \"공급망 이슈·시안 폐쇄로 무리한 메모리 판매 자제\"[컨콜] https://news.naver.com/main/read.naver?mode=LSD&mid=shm&sid1=101&oid=014&aid=0004779665\n",
      "51 = [공시줍줍]국민연금은 왜 대표소송을 준비하나 https://news.naver.com/main/read.naver?mode=LSD&mid=shm&sid1=101&oid=648&aid=0000006092\n",
      "52 = [공시줍줍]오스템임플란트, 상장적격성 실질심사 결정 연기…향후 절차는? https://news.naver.com/main/read.naver?mode=LSD&mid=shm&sid1=101&oid=648&aid=0000006052\n",
      "53 = [공시줍줍]SG, 레미콘사업 떼낸다는데..물적분할은 아니라고? https://news.naver.com/main/read.naver?mode=LSD&mid=shm&sid1=101&oid=648&aid=0000006047\n",
      "54 = [공시줍줍]공모주달력 1월 24~28일 https://news.naver.com/main/read.naver?mode=LSD&mid=shm&sid1=101&oid=648&aid=0000006028\n",
      "55 =  https://news.naver.com/main/ranking/read.naver?mode=LSD&mid=shm&sid1=001&oid=009&aid=0004914601&rankingType=RANKING\n",
      "56 = \"금메달 쓰레기통에 버렸다\" 고백한 평창 금메달리스트, 누 … https://news.naver.com/main/ranking/read.naver?mode=LSD&mid=shm&sid1=001&oid=009&aid=0004914601&rankingType=RANKING\n",
      "57 =  https://news.naver.com/main/ranking/read.naver?mode=LSD&mid=shm&sid1=001&oid=052&aid=0001694901&rankingType=RANKING\n",
      "58 = [속보] 광주 붕괴사고 현장에서 11시 50분경 실종자 1 … https://news.naver.com/main/ranking/read.naver?mode=LSD&mid=shm&sid1=001&oid=052&aid=0001694901&rankingType=RANKING\n",
      "59 =  https://news.naver.com/main/ranking/read.naver?mode=LSD&mid=shm&sid1=001&oid=437&aid=0000287966&rankingType=RANKING\n",
      "60 = [단독] \"윤석열 부부 맺어준 스님 정체는 눈썹도사님... … https://news.naver.com/main/ranking/read.naver?mode=LSD&mid=shm&sid1=001&oid=437&aid=0000287966&rankingType=RANKING\n",
      "61 =  https://news.naver.com/main/ranking/read.naver?mode=LSD&mid=shm&sid1=001&oid=032&aid=0003125396&rankingType=RANKING\n",
      "62 = 국민의당, 국민의힘 '양자토론' 고집에 “공당 맞나…윤석열 … https://news.naver.com/main/ranking/read.naver?mode=LSD&mid=shm&sid1=001&oid=032&aid=0003125396&rankingType=RANKING\n",
      "63 =  https://news.naver.com/main/ranking/read.naver?mode=LSD&mid=shm&sid1=001&oid=056&aid=0011202915&rankingType=RANKING\n",
      "64 = 운전면허증 스마트폰 속으로…오늘부터 첫 ‘모바일 신분증’  … https://news.naver.com/main/ranking/read.naver?mode=LSD&mid=shm&sid1=001&oid=056&aid=0011202915&rankingType=RANKING\n",
      "65 =  https://news.naver.com/main/ranking/read.naver?mode=LSD&mid=shm&sid1=001&oid=214&aid=0001175082&rankingType=RANKING\n",
      "66 = 광주 붕괴사고 현장 28층 실종자 발견 https://news.naver.com/main/ranking/read.naver?mode=LSD&mid=shm&sid1=001&oid=214&aid=0001175082&rankingType=RANKING\n",
      "67 = 동영상기사 https://news.naver.com/main/ranking/read.naver?mode=LSD&mid=shm&sid1=001&oid=055&aid=0000949508&rankingType=RANKING\n",
      "68 = \"부산행 기차서 알몸 음란행위…이 남성 처벌해주세요\" https://news.naver.com/main/ranking/read.naver?mode=LSD&mid=shm&sid1=001&oid=055&aid=0000949508&rankingType=RANKING\n",
      "69 =  https://news.naver.com/main/ranking/read.naver?mode=LSD&mid=shm&sid1=001&oid=005&aid=0001501688&rankingType=RANKING\n",
      "70 = 자가진단키트 사놔야 해요? 바뀐 검사체계 [싹.다.정] https://news.naver.com/main/ranking/read.naver?mode=LSD&mid=shm&sid1=001&oid=005&aid=0001501688&rankingType=RANKING\n",
      "71 =  https://news.naver.com/main/ranking/read.naver?mode=LSD&mid=shm&sid1=001&oid=047&aid=0002340473&rankingType=RANKING\n",
      "72 = <추적단 불꽃>의 '불', 민주당 선대위 합류... \"국힘 … https://news.naver.com/main/ranking/read.naver?mode=LSD&mid=shm&sid1=001&oid=047&aid=0002340473&rankingType=RANKING\n",
      "73 =  https://news.naver.com/main/ranking/read.naver?mode=LSD&mid=shm&sid1=001&oid=018&aid=0005135417&rankingType=RANKING\n",
      "74 = ‘4자 대결’ 이재명 35% 윤석열 34%…2주 연속 박빙 … https://news.naver.com/main/ranking/read.naver?mode=LSD&mid=shm&sid1=001&oid=018&aid=0005135417&rankingType=RANKING\n",
      "75 =  https://news.naver.com/main/ranking/read.naver?mode=LSD&mid=shm&sid1=001&oid=469&aid=0000655086&rankingType=RANKING\n",
      "76 = 붕괴 건물 28층서 실종자 추가 발견…내시경 카메라로 확인 https://news.naver.com/main/ranking/read.naver?mode=LSD&mid=shm&sid1=001&oid=469&aid=0000655086&rankingType=RANKING\n",
      "77 =  https://news.naver.com/main/ranking/read.naver?mode=LSD&mid=shm&sid1=001&oid=057&aid=0001638517&rankingType=RANKING\n",
      "78 = 김건희, 직접 입력한 '학력' 보니…허위 논란 털고 '등판 … https://news.naver.com/main/ranking/read.naver?mode=LSD&mid=shm&sid1=001&oid=057&aid=0001638517&rankingType=RANKING\n",
      "79 =  https://news.naver.com/main/ranking/read.naver?mode=LSD&mid=shm&sid1=001&oid=025&aid=0003169714&rankingType=RANKING\n",
      "80 = \"처자식 죽인 계백이 패륜범이냐\" 이재명 욕설 감싼 전우용 https://news.naver.com/main/ranking/read.naver?mode=LSD&mid=shm&sid1=001&oid=025&aid=0003169714&rankingType=RANKING\n",
      "81 =  https://news.naver.com/main/ranking/read.naver?mode=LSD&mid=shm&sid1=001&oid=023&aid=0003669074&rankingType=RANKING\n",
      "82 = 다리 올라선 아기 엄마…배달원은 오토바이 내팽개치고 달려갔 … https://news.naver.com/main/ranking/read.naver?mode=LSD&mid=shm&sid1=001&oid=023&aid=0003669074&rankingType=RANKING\n",
      "83 =  https://news.naver.com/main/ranking/read.naver?mode=LSD&mid=shm&sid1=001&oid=011&aid=0004012866&rankingType=RANKING\n",
      "84 = \"女회장 끌려 갔다\"…주가 66% 대폭락, 무슨 죄길래 https://news.naver.com/main/ranking/read.naver?mode=LSD&mid=shm&sid1=001&oid=011&aid=0004012866&rankingType=RANKING\n",
      "85 =  https://news.naver.com/main/ranking/read.naver?mode=LSD&mid=shm&sid1=001&oid=119&aid=0002570853&rankingType=RANKING\n",
      "86 = 송지아 논란에 불똥 튄 '하시3' 박지현, 학력 위조 의혹 … https://news.naver.com/main/ranking/read.naver?mode=LSD&mid=shm&sid1=001&oid=119&aid=0002570853&rankingType=RANKING\n",
      "87 = 동영상기사 https://news.naver.com/main/ranking/read.naver?mode=LSD&mid=shm&sid1=001&oid=422&aid=0000525543&rankingType=RANKING\n",
      "88 = [속보] 광주 붕괴사고 매몰자 1명 추가 발견…28층 잔해 … https://news.naver.com/main/ranking/read.naver?mode=LSD&mid=shm&sid1=001&oid=422&aid=0000525543&rankingType=RANKING\n",
      "89 =  https://news.naver.com/main/ranking/read.naver?mode=LSD&mid=shm&sid1=001&oid=028&aid=0002577147&rankingType=RANKING\n",
      "90 = 오늘부터 ‘이런 현장’은 위법입니다! https://news.naver.com/main/ranking/read.naver?mode=LSD&mid=shm&sid1=001&oid=028&aid=0002577147&rankingType=RANKING\n",
      "91 =  https://news.naver.com/main/ranking/read.naver?mode=LSD&mid=shm&sid1=001&oid=015&aid=0004657742&rankingType=RANKING\n",
      "92 = LG엔솔, 외국인 벌써 6000억 매도…삼성SDI·SK이노 … https://news.naver.com/main/ranking/read.naver?mode=LSD&mid=shm&sid1=001&oid=015&aid=0004657742&rankingType=RANKING\n",
      "93 =  https://news.naver.com/main/ranking/read.naver?mode=LSD&mid=shm&sid1=001&oid=138&aid=0002117910&rankingType=RANKING\n",
      "94 = LG엔솔, 예고된 '따상' 실패.....외인 매물 폭탄에  … https://news.naver.com/main/ranking/read.naver?mode=LSD&mid=shm&sid1=001&oid=138&aid=0002117910&rankingType=RANKING\n",
      "95 =  https://news.naver.com/main/ranking/read.naver?mode=LSD&mid=shm&sid1=001&oid=215&aid=0001011748&rankingType=RANKING\n",
      "96 = \"오를 땐 팔더니 내릴 땐 안파네\"...테슬라, 비트코인  … https://news.naver.com/main/ranking/read.naver?mode=LSD&mid=shm&sid1=001&oid=215&aid=0001011748&rankingType=RANKING\n",
      "97 =  https://news.naver.com/main/ranking/read.naver?mode=LSD&mid=shm&sid1=001&oid=277&aid=0005036464&rankingType=RANKING\n",
      "98 = \"출장간호사, 주 950만원 벌지만…\" 여전히 인력난 호소 … https://news.naver.com/main/ranking/read.naver?mode=LSD&mid=shm&sid1=001&oid=277&aid=0005036464&rankingType=RANKING\n",
      "99 =  https://news.naver.com/main/ranking/read.naver?mode=LSD&mid=shm&sid1=001&oid=016&aid=0001943271&rankingType=RANKING\n",
      "100 = “전국의 삼촌들 울렸다” 가슴 뭉클 ‘이것’ 300만 끌어 … https://news.naver.com/main/ranking/read.naver?mode=LSD&mid=shm&sid1=001&oid=016&aid=0001943271&rankingType=RANKING\n",
      "101 =  https://news.naver.com/main/ranking/read.naver?mode=LSD&mid=shm&sid1=001&oid=081&aid=0003247846&rankingType=RANKING\n",
      "102 = [속보] 감염력 더 센 ‘스텔스 오미크론’ 변이 日서 27 … https://news.naver.com/main/ranking/read.naver?mode=LSD&mid=shm&sid1=001&oid=081&aid=0003247846&rankingType=RANKING\n",
      "103 =  https://news.naver.com/main/ranking/read.naver?mode=LSD&mid=shm&sid1=001&oid=008&aid=0004701646&rankingType=RANKING\n",
      "104 = \"文대통령이 정경심 사면을\"…징역 4년 확정에 지지자 '격 … https://news.naver.com/main/ranking/read.naver?mode=LSD&mid=shm&sid1=001&oid=008&aid=0004701646&rankingType=RANKING\n",
      "105 =  https://news.naver.com/main/ranking/read.naver?mode=LSD&mid=shm&sid1=001&oid=020&aid=0003408246&rankingType=RANKING\n",
      "106 = “신해철 사망케 한 의사, 다른 의료 사망사고로 또 기소  … https://news.naver.com/main/ranking/read.naver?mode=LSD&mid=shm&sid1=001&oid=020&aid=0003408246&rankingType=RANKING\n",
      "107 =  https://news.naver.com/main/ranking/read.naver?mode=LSD&mid=shm&sid1=001&oid=366&aid=0000790168&rankingType=RANKING\n",
      "108 = 광주 붕괴사고 중수본 “28층서 실종자 1명 추가 발견” https://news.naver.com/main/ranking/read.naver?mode=LSD&mid=shm&sid1=001&oid=366&aid=0000790168&rankingType=RANKING\n",
      "109 =  https://news.naver.com/main/ranking/read.naver?mode=LSD&mid=shm&sid1=001&oid=001&aid=0012945242&rankingType=RANKING\n",
      "110 = 동양대PC 증거능력 대법원도 인정…'반전' 어려워진 조국 https://news.naver.com/main/ranking/read.naver?mode=LSD&mid=shm&sid1=001&oid=001&aid=0012945242&rankingType=RANKING\n",
      "111 =  https://news.naver.com/main/ranking/read.naver?mode=LSD&mid=shm&sid1=001&oid=092&aid=0002246131&rankingType=RANKING\n",
      "112 = '1경' 몰린 LG엔솔, 코스피 시장 입성…'따상'은 실패 https://news.naver.com/main/ranking/read.naver?mode=LSD&mid=shm&sid1=001&oid=092&aid=0002246131&rankingType=RANKING\n",
      "113 =  https://news.naver.com/main/ranking/read.naver?mode=LSD&mid=shm&sid1=001&oid=448&aid=0000350125&rankingType=RANKING\n",
      "114 = 윤미향 남편 \"힘내자!\" 제명 거부 뜻…해외 시민단체도 \" … https://news.naver.com/main/ranking/read.naver?mode=LSD&mid=shm&sid1=001&oid=448&aid=0000350125&rankingType=RANKING\n",
      "115 =  https://news.naver.com/main/ranking/read.naver?mode=LSD&mid=shm&sid1=001&oid=014&aid=0004779333&rankingType=RANKING\n",
      "116 = 이재명에 훈수 둔 정동영 \"떨어져봐서 아는데..일정 줄이고 … https://news.naver.com/main/ranking/read.naver?mode=LSD&mid=shm&sid1=001&oid=014&aid=0004779333&rankingType=RANKING\n",
      "117 =  https://news.naver.com/main/ranking/read.naver?mode=LSD&mid=shm&sid1=001&oid=003&aid=0010969742&rankingType=RANKING\n",
      "118 = \"증권사 먹통에 손실봤다\"…LG엔솔 공모 투자자들 '분노' … https://news.naver.com/main/ranking/read.naver?mode=LSD&mid=shm&sid1=001&oid=003&aid=0010969742&rankingType=RANKING\n",
      "119 =  https://news.naver.com/main/ranking/read.naver?mode=LSD&mid=shm&sid1=001&oid=033&aid=0000043642&rankingType=RANKING\n",
      "120 = 집값 전망? ‘공급·금융·세제’에 주목하라 https://news.naver.com/main/ranking/read.naver?mode=LSD&mid=shm&sid1=001&oid=033&aid=0000043642&rankingType=RANKING\n",
      "121 =  https://news.naver.com/main/ranking/read.naver?mode=LSD&mid=shm&sid1=001&oid=079&aid=0003602233&rankingType=RANKING\n",
      "122 = [속보]28층서 실종자 1명 추가 발견 https://news.naver.com/main/ranking/read.naver?mode=LSD&mid=shm&sid1=001&oid=079&aid=0003602233&rankingType=RANKING\n",
      "123 =  https://news.naver.com/main/ranking/read.naver?mode=LSD&mid=shm&sid1=001&oid=031&aid=0000650831&rankingType=RANKING\n",
      "124 = [종합] 새 역사 쓴 삼성전자, 반도체 덕에 날았다…매출  … https://news.naver.com/main/ranking/read.naver?mode=LSD&mid=shm&sid1=001&oid=031&aid=0000650831&rankingType=RANKING\n",
      "125 =  https://news.naver.com/main/ranking/read.naver?mode=LSD&mid=shm&sid1=001&oid=022&aid=0003661842&rankingType=RANKING\n",
      "126 = [속보] 광주 아이파크 아파트 붕괴 현장에서 실종자 1명  … https://news.naver.com/main/ranking/read.naver?mode=LSD&mid=shm&sid1=001&oid=022&aid=0003661842&rankingType=RANKING\n",
      "127 =  https://news.naver.com/main/ranking/read.naver?mode=LSD&mid=shm&sid1=001&oid=421&aid=0005870228&rankingType=RANKING\n",
      "128 = 이상민 \"지지율 이재명 정체, 尹 UP…尹보다 김건희 비난 … https://news.naver.com/main/ranking/read.naver?mode=LSD&mid=shm&sid1=001&oid=421&aid=0005870228&rankingType=RANKING\n",
      "129 =  https://news.naver.com/main/ranking/read.naver?mode=LSD&mid=shm&sid1=001&oid=006&aid=0000111569&rankingType=RANKING\n",
      "130 = 이상민 \"민주당 패거리 진영논리 빠져… 김건희 공격 지나치 … https://news.naver.com/main/ranking/read.naver?mode=LSD&mid=shm&sid1=001&oid=006&aid=0000111569&rankingType=RANKING\n",
      "131 =  https://news.naver.com/main/ranking/read.naver?mode=LSD&mid=shm&sid1=001&oid=002&aid=0002229080&rankingType=RANKING\n",
      "132 = NBS, 이재명·윤석열 1%P 차이 '초박빙'…안철수 하락 … https://news.naver.com/main/ranking/read.naver?mode=LSD&mid=shm&sid1=001&oid=002&aid=0002229080&rankingType=RANKING\n",
      "133 = 동영상기사 https://news.naver.com/main/ranking/read.naver?mode=LSD&mid=shm&sid1=001&oid=449&aid=0000221520&rankingType=RANKING\n",
      "134 = 대법, 정경심 징역 4년 확정…“조국 재판 영향 불가피” https://news.naver.com/main/ranking/read.naver?mode=LSD&mid=shm&sid1=001&oid=449&aid=0000221520&rankingType=RANKING\n",
      "135 =  https://news.naver.com/main/ranking/read.naver?mode=LSD&mid=shm&sid1=001&oid=629&aid=0000129817&rankingType=RANKING\n",
      "136 = 김건희 ‘목덜미남’은 역술인 심박사?…수행비서 황씨는 아냐 https://news.naver.com/main/ranking/read.naver?mode=LSD&mid=shm&sid1=001&oid=629&aid=0000129817&rankingType=RANKING\n",
      "137 =  https://news.naver.com/main/ranking/read.naver?mode=LSD&mid=shm&sid1=001&oid=087&aid=0000879729&rankingType=RANKING\n",
      "138 = 대법, '자녀 입시 비리·사모펀드' 정경심 징역 4년 확정 … https://news.naver.com/main/ranking/read.naver?mode=LSD&mid=shm&sid1=001&oid=087&aid=0000879729&rankingType=RANKING\n",
      "139 =  https://news.naver.com/main/ranking/read.naver?mode=LSD&mid=shm&sid1=001&oid=029&aid=0002718042&rankingType=RANKING\n",
      "140 = 침묵 깬 안민석, ‘김건희 출입국 기록’ 공개되자…“정당한 … https://news.naver.com/main/ranking/read.naver?mode=LSD&mid=shm&sid1=001&oid=029&aid=0002718042&rankingType=RANKING\n",
      "141 =  https://news.naver.com/main/ranking/read.naver?mode=LSD&mid=shm&sid1=001&oid=082&aid=0001138877&rankingType=RANKING\n",
      "142 = 윤석열 “청와대 해체…대통령실, 광화문에 설치” https://news.naver.com/main/ranking/read.naver?mode=LSD&mid=shm&sid1=001&oid=082&aid=0001138877&rankingType=RANKING\n",
      "143 =  https://news.naver.com/main/ranking/read.naver?mode=LSD&mid=shm&sid1=001&oid=036&aid=0000045979&rankingType=RANKING\n",
      "144 = ‘널뛰는 보수’의 탄생 https://news.naver.com/main/ranking/read.naver?mode=LSD&mid=shm&sid1=001&oid=036&aid=0000045979&rankingType=RANKING\n",
      "145 =  https://news.naver.com/main/ranking/read.naver?mode=LSD&mid=shm&sid1=001&oid=021&aid=0002501415&rankingType=RANKING\n",
      "146 = 강성 문파內 들끓는 ‘反이재명’ 운동… 李 ‘文과 차별화’ … https://news.naver.com/main/ranking/read.naver?mode=LSD&mid=shm&sid1=001&oid=021&aid=0002501415&rankingType=RANKING\n",
      "147 =  https://news.naver.com/main/ranking/read.naver?mode=LSD&mid=shm&sid1=001&oid=296&aid=0000054000&rankingType=RANKING\n",
      "148 = 술 vs 탄수화물, ‘간 수치’ 높이는 것은? https://news.naver.com/main/ranking/read.naver?mode=LSD&mid=shm&sid1=001&oid=296&aid=0000054000&rankingType=RANKING\n",
      "149 =  https://news.naver.com/main/ranking/read.naver?mode=LSD&mid=shm&sid1=001&oid=640&aid=0000020716&rankingType=RANKING\n",
      "150 = Daily Covid cases top 13,000, gr … https://news.naver.com/main/ranking/read.naver?mode=LSD&mid=shm&sid1=001&oid=640&aid=0000020716&rankingType=RANKING\n",
      "151 =  https://news.naver.com/main/ranking/read.naver?mode=LSD&mid=shm&sid1=001&oid=088&aid=0000742547&rankingType=RANKING\n",
      "152 = [속보]광주 붕괴건물 실종자 1명 추가 발견…28층 잔해  … https://news.naver.com/main/ranking/read.naver?mode=LSD&mid=shm&sid1=001&oid=088&aid=0000742547&rankingType=RANKING\n",
      "153 =  https://news.naver.com/main/ranking/read.naver?mode=LSD&mid=shm&sid1=001&oid=024&aid=0000072948&rankingType=RANKING\n",
      "154 = 벤츠, BMW, 페라리를 매월 바꿔 탄다…자동차 정기구독  … https://news.naver.com/main/ranking/read.naver?mode=LSD&mid=shm&sid1=001&oid=024&aid=0000072948&rankingType=RANKING\n",
      "155 =  https://news.naver.com/main/ranking/read.naver?mode=LSD&mid=shm&sid1=001&oid=374&aid=0000273483&rankingType=RANKING\n",
      "156 = 광주 붕괴사고 실종자 1명 추가 발견 https://news.naver.com/main/ranking/read.naver?mode=LSD&mid=shm&sid1=001&oid=374&aid=0000273483&rankingType=RANKING\n",
      "157 =  https://news.naver.com/main/ranking/read.naver?mode=LSD&mid=shm&sid1=001&oid=607&aid=0000000989&rankingType=RANKING\n",
      "158 = '안철수의 생각'은 10년 간 변하지 않았다? https://news.naver.com/main/ranking/read.naver?mode=LSD&mid=shm&sid1=001&oid=607&aid=0000000989&rankingType=RANKING\n",
      "159 =  https://news.naver.com/main/ranking/read.naver?mode=LSD&mid=shm&sid1=001&oid=584&aid=0000017604&rankingType=RANKING\n",
      "160 = 지금까지 알려진 오미크론 변이의 세 가지 특성 https://news.naver.com/main/ranking/read.naver?mode=LSD&mid=shm&sid1=001&oid=584&aid=0000017604&rankingType=RANKING\n",
      "161 =  https://news.naver.com/main/ranking/read.naver?mode=LSD&mid=shm&sid1=001&oid=030&aid=0002995852&rankingType=RANKING\n",
      "162 = LG엔솔, 미국서 전기차 年280만대분 배터리 생산한다 https://news.naver.com/main/ranking/read.naver?mode=LSD&mid=shm&sid1=001&oid=030&aid=0002995852&rankingType=RANKING\n",
      "163 =  https://news.naver.com/main/ranking/read.naver?mode=LSD&mid=shm&sid1=001&oid=293&aid=0000037816&rankingType=RANKING\n",
      "164 = LG에너지솔루션 유가증권 상장...'따상'보다 값진 것 https://news.naver.com/main/ranking/read.naver?mode=LSD&mid=shm&sid1=001&oid=293&aid=0000037816&rankingType=RANKING\n",
      "165 =  https://news.naver.com/main/ranking/read.naver?mode=LSD&mid=shm&sid1=001&oid=417&aid=0000779881&rankingType=RANKING\n",
      "166 = '신해철 의료사고 사망' 의사, 같은 혐의로 또 기소… 뒤 … https://news.naver.com/main/ranking/read.naver?mode=LSD&mid=shm&sid1=001&oid=417&aid=0000779881&rankingType=RANKING\n",
      "167 =  https://news.naver.com/main/ranking/read.naver?mode=LSD&mid=shm&sid1=001&oid=044&aid=0000234127&rankingType=RANKING\n",
      "168 = [Feature] What do you know about … https://news.naver.com/main/ranking/read.naver?mode=LSD&mid=shm&sid1=001&oid=044&aid=0000234127&rankingType=RANKING\n",
      "169 =  https://news.naver.com/main/ranking/read.naver?mode=LSD&mid=shm&sid1=001&oid=346&aid=0000047884&rankingType=RANKING\n",
      "170 = '성 관계' 후 잠이 솔솔~ 오는 이유 https://news.naver.com/main/ranking/read.naver?mode=LSD&mid=shm&sid1=001&oid=346&aid=0000047884&rankingType=RANKING\n",
      "171 =  https://news.naver.com/main/ranking/read.naver?mode=LSD&mid=shm&sid1=001&oid=243&aid=0000021962&rankingType=RANKING\n",
      "172 = LG엔솔 잇는 공모주 대어 현대엔지니어링, 청약흥행 이끌까 https://news.naver.com/main/ranking/read.naver?mode=LSD&mid=shm&sid1=001&oid=243&aid=0000021962&rankingType=RANKING\n",
      "173 =  https://news.naver.com/main/ranking/read.naver?mode=LSD&mid=shm&sid1=001&oid=053&aid=0000030449&rankingType=RANKING\n",
      "174 = 성남FC 160억 수수료도 오리무중... 3대 의혹 제기 https://news.naver.com/main/ranking/read.naver?mode=LSD&mid=shm&sid1=001&oid=053&aid=0000030449&rankingType=RANKING\n",
      "175 =  https://news.naver.com/main/ranking/read.naver?mode=LSD&mid=shm&sid1=001&oid=308&aid=0000030252&rankingType=RANKING\n",
      "176 = 이재명·윤석열·심상정·안철수 〈삼프로TV〉 댓글 분석해보니 https://news.naver.com/main/ranking/read.naver?mode=LSD&mid=shm&sid1=001&oid=308&aid=0000030252&rankingType=RANKING\n",
      "177 =  https://news.naver.com/main/ranking/read.naver?mode=LSD&mid=shm&sid1=001&oid=050&aid=0000059771&rankingType=RANKING\n",
      "178 = 이재현의 성장 엔진 ‘웰니스’ 키우는 CJ제일제당 https://news.naver.com/main/ranking/read.naver?mode=LSD&mid=shm&sid1=001&oid=050&aid=0000059771&rankingType=RANKING\n",
      "179 =  https://news.naver.com/main/ranking/read.naver?mode=LSD&mid=shm&sid1=001&oid=310&aid=0000093601&rankingType=RANKING\n",
      "180 = 법원 \"이재명·윤석열 양자토론 안된다\"... 안철수 가처분 … https://news.naver.com/main/ranking/read.naver?mode=LSD&mid=shm&sid1=001&oid=310&aid=0000093601&rankingType=RANKING\n",
      "181 =  https://news.naver.com/main/ranking/read.naver?mode=LSD&mid=shm&sid1=001&oid=586&aid=0000034230&rankingType=RANKING\n",
      "182 = 김건희, 네이버 프로필에 '학력' 추가…'허위기재' 논란  … https://news.naver.com/main/ranking/read.naver?mode=LSD&mid=shm&sid1=001&oid=586&aid=0000034230&rankingType=RANKING\n",
      "183 =  https://news.naver.com/main/ranking/read.naver?mode=LSD&mid=shm&sid1=001&oid=127&aid=0000032153&rankingType=RANKING\n",
      "184 = \"언론사 입사 준비한다 하면, 가족·지인들이 부정적으로 바 … https://news.naver.com/main/ranking/read.naver?mode=LSD&mid=shm&sid1=001&oid=127&aid=0000032153&rankingType=RANKING\n",
      "185 =  https://news.naver.com/main/ranking/read.naver?mode=LSD&mid=shm&sid1=001&oid=094&aid=0000009730&rankingType=RANKING\n",
      "186 = [등산시렁] 겨울산은 사납다고? 이렇게 귀여운 걸! https://news.naver.com/main/ranking/read.naver?mode=LSD&mid=shm&sid1=001&oid=094&aid=0000009730&rankingType=RANKING\n",
      "187 =  https://news.naver.com/main/ranking/read.naver?mode=LSD&mid=shm&sid1=001&oid=262&aid=0000015154&rankingType=RANKING\n",
      "188 = 北 대선 개입 직시하라! https://news.naver.com/main/ranking/read.naver?mode=LSD&mid=shm&sid1=001&oid=262&aid=0000015154&rankingType=RANKING\n",
      "189 =  https://news.naver.com/main/ranking/read.naver?mode=LSD&mid=shm&sid1=001&oid=007&aid=0000007001&rankingType=RANKING\n",
      "190 = 법이 모른 척해도, 나는 노동자입니다 https://news.naver.com/main/ranking/read.naver?mode=LSD&mid=shm&sid1=001&oid=007&aid=0000007001&rankingType=RANKING\n",
      "191 =  https://news.naver.com/main/ranking/read.naver?mode=LSD&mid=shm&sid1=001&oid=123&aid=0002265826&rankingType=RANKING\n",
      "192 = [코로나19] 신규확진 1만4518명…오미크론에 사흘만에  … https://news.naver.com/main/ranking/read.naver?mode=LSD&mid=shm&sid1=001&oid=123&aid=0002265826&rankingType=RANKING\n",
      "193 =  https://news.naver.com/main/ranking/read.naver?mode=LSD&mid=shm&sid1=001&oid=037&aid=0000030231&rankingType=RANKING\n",
      "194 = “美 증시 거의 바닥”… “나스닥은 전고점 대비 최대 &# … https://news.naver.com/main/ranking/read.naver?mode=LSD&mid=shm&sid1=001&oid=037&aid=0000030231&rankingType=RANKING\n",
      "195 =  https://news.naver.com/main/ranking/read.naver?mode=LSD&mid=shm&sid1=001&oid=648&aid=0000006111&rankingType=RANKING\n",
      "196 = '반도체 1위 탈환' 삼성전자, TSMC·인텔 반격카드 ' … https://news.naver.com/main/ranking/read.naver?mode=LSD&mid=shm&sid1=001&oid=648&aid=0000006111&rankingType=RANKING\n",
      "197 =  https://news.naver.com/main/ranking/read.naver?mode=LSD&mid=shm&sid1=001&oid=353&aid=0000041424&rankingType=RANKING\n",
      "198 = 펜디도 티파니도 ‘2500원짜리’ 그림에 꽂히다 https://news.naver.com/main/ranking/read.naver?mode=LSD&mid=shm&sid1=001&oid=353&aid=0000041424&rankingType=RANKING\n",
      "199 =  https://news.naver.com/main/ranking/read.naver?mode=LSD&mid=shm&sid1=001&oid=145&aid=0000015747&rankingType=RANKING\n",
      "200 = 故그레이스 켈리 ‘닮은꼴 손녀’ 샬롯 카시라기, 샤넬 무대 … https://news.naver.com/main/ranking/read.naver?mode=LSD&mid=shm&sid1=001&oid=145&aid=0000015747&rankingType=RANKING\n",
      "201 =  https://news.naver.com/main/ranking/read.naver?mode=LSD&mid=shm&sid1=001&oid=654&aid=0000001024&rankingType=RANKING\n",
      "202 = 최대 5000원…바짝 오른 배달료 'n분의 1' 지불 등장 https://news.naver.com/main/ranking/read.naver?mode=LSD&mid=shm&sid1=001&oid=654&aid=0000001024&rankingType=RANKING\n",
      "203 = 동영상기사 https://news.naver.com/main/ranking/read.naver?mode=LSD&mid=shm&sid1=001&oid=655&aid=0000000234&rankingType=RANKING\n",
      "204 = 더불어민주당, 오늘 의원 제명안 윤리특위 상정 https://news.naver.com/main/ranking/read.naver?mode=LSD&mid=shm&sid1=001&oid=655&aid=0000000234&rankingType=RANKING\n",
      "205 =  https://news.naver.com/main/ranking/read.naver?mode=LSD&mid=shm&sid1=001&oid=656&aid=0000001341&rankingType=RANKING\n",
      "206 = 출마 했었나?... '네 번째 대권 도전' 손학규의 쓸쓸한 … https://news.naver.com/main/ranking/read.naver?mode=LSD&mid=shm&sid1=001&oid=656&aid=0000001341&rankingType=RANKING\n",
      "207 =  https://news.naver.com/main/ranking/read.naver?mode=LSD&mid=shm&sid1=001&oid=657&aid=0000000327&rankingType=RANKING\n",
      "208 = 대구 770명·경북 489명···역대 최다 확진 https://news.naver.com/main/ranking/read.naver?mode=LSD&mid=shm&sid1=001&oid=657&aid=0000000327&rankingType=RANKING\n",
      "209 =  https://news.naver.com/main/ranking/read.naver?mode=LSD&mid=shm&sid1=001&oid=658&aid=0000000984&rankingType=RANKING\n",
      "210 = 부산 코로나 700명대 폭증...국내 확진자 사흘 만에 ' … https://news.naver.com/main/ranking/read.naver?mode=LSD&mid=shm&sid1=001&oid=658&aid=0000000984&rankingType=RANKING\n",
      "211 = 동영상기사 https://news.naver.com/main/ranking/read.naver?mode=LSD&mid=shm&sid1=001&oid=659&aid=0000000242&rankingType=RANKING\n",
      "212 = 일일 확진자 301명.. 전주 어린이집 임시 휴원 https://news.naver.com/main/ranking/read.naver?mode=LSD&mid=shm&sid1=001&oid=659&aid=0000000242&rankingType=RANKING\n",
      "213 =  https://news.naver.com/main/ranking/read.naver?mode=LSD&mid=shm&sid1=001&oid=660&aid=0000001033&rankingType=RANKING\n",
      "214 = 국민의힘, 별도 양자토론 제안..민주당 \"4자 토론부터 참 … https://news.naver.com/main/ranking/read.naver?mode=LSD&mid=shm&sid1=001&oid=660&aid=0000001033&rankingType=RANKING\n",
      "215 =  https://news.naver.com/main/ranking/read.naver?mode=LSD&mid=shm&sid1=001&oid=657&aid=0000000327&rankingType=RANKING\n",
      "216 = 대구 770명·경북 489명···역대 최다 확진 https://news.naver.com/main/ranking/read.naver?mode=LSD&mid=shm&sid1=001&oid=657&aid=0000000327&rankingType=RANKING\n",
      "217 =  https://news.naver.com/main/ranking/read.naver?mode=LSD&mid=shm&sid1=001&oid=658&aid=0000000984&rankingType=RANKING\n",
      "218 = 부산 코로나 700명대 폭증...국내 확진자 사흘 만에 ' … https://news.naver.com/main/ranking/read.naver?mode=LSD&mid=shm&sid1=001&oid=658&aid=0000000984&rankingType=RANKING\n",
      "219 = 동영상기사 https://news.naver.com/main/ranking/read.naver?mode=LSD&mid=shm&sid1=001&oid=659&aid=0000000242&rankingType=RANKING\n",
      "220 = 일일 확진자 301명.. 전주 어린이집 임시 휴원 https://news.naver.com/main/ranking/read.naver?mode=LSD&mid=shm&sid1=001&oid=659&aid=0000000242&rankingType=RANKING\n",
      "221 =  https://news.naver.com/main/ranking/read.naver?mode=LSD&mid=shm&sid1=001&oid=660&aid=0000001033&rankingType=RANKING\n",
      "222 = 국민의힘, 별도 양자토론 제안..민주당 \"4자 토론부터 참 … https://news.naver.com/main/ranking/read.naver?mode=LSD&mid=shm&sid1=001&oid=660&aid=0000001033&rankingType=RANKING\n",
      "223 =  https://news.naver.com/main/ranking/read.naver?mode=LSD&mid=shm&sid1=001&oid=661&aid=0000000886&rankingType=RANKING\n",
      "224 = 제주 코로나19 확진자 72명.. 하루 최고  기록 https://news.naver.com/main/ranking/read.naver?mode=LSD&mid=shm&sid1=001&oid=661&aid=0000000886&rankingType=RANKING\n",
      "225 = '토론 무산' 꼼수? 비책?... '李-尹 양자토론 다시 제안' 국힘 노림수는 https://news.naver.com/main/read.naver?mode=LSD&mid=shm&sid1=100&oid=656&aid=0000001344\n",
      "226 = 北 6번째 미사일 발사에도… 靑, 또 도발이라 못하고 “매우 유감” https://news.naver.com/main/read.naver?mode=LSD&mid=shm&sid1=100&oid=023&aid=0003669129\n",
      "227 = 윤석열 \"청와대 전체를 국민들께 돌려드릴 것\" https://news.naver.com/main/read.naver?mode=LSD&mid=shm&sid1=100&oid=047&aid=0002340471\n",
      "228 = 러시아에 '문서' 넘긴 美…'우크라 위기' 반전 만들 수 있을까 https://news.naver.com/main/read.naver?mode=LSD&mid=shm&sid1=104&oid=008&aid=0004701753\n",
      "229 = 감염력 더 센 ‘스텔스 오미크론’ 변이 일본서 27건 확인 https://news.naver.com/main/read.naver?mode=LSD&mid=shm&sid1=104&oid=081&aid=0003247858\n",
      "230 = 내 연말정산 자료 남이 훔쳐봤다…'황당 오류'에 뚫린 홈택스 https://news.naver.com/main/read.naver?mode=LSD&mid=shm&sid1=101&oid=025&aid=0003169725\n",
      "231 = 삼성전자, 지난해 반도체 매출 94조원 세계 1위…인텔에 3조원 앞서 https://news.naver.com/main/read.naver?mode=LSD&mid=shm&sid1=101&oid=366&aid=0000790193\n",
      "232 = 서울 아파트값 20개월 만에 떨어졌다…상승장 마감, 대세하락 오나 https://news.naver.com/main/read.naver?mode=LSD&mid=shm&sid1=101&oid=001&aid=0012945578\n",
      "233 = 방준혁 '뉴 넷마블' 선포…\"메타버스·블록체인 신사업 강력추진\" https://news.naver.com/main/read.naver?mode=LSD&mid=shm&sid1=105&oid=015&aid=0004657859\n",
      "234 = 임혜숙 장관 “2월 중 통신 3사 CEO 만나겠다…SKT 주파수 추가 할당은 시간 걸려” https://news.naver.com/main/read.naver?mode=LSD&mid=shm&sid1=105&oid=366&aid=0000790148\n",
      "235 = 정경심 징역4년 확정…대법, 조민 7대 스펙위조 다 인정했다 https://news.naver.com/main/read.naver?mode=LSD&mid=shm&sid1=102&oid=025&aid=0003169696\n",
      "236 = 광주 붕괴 아파트 28층서 세번째 실종자 발견…“잔해물 때문에 구조 난항” https://news.naver.com/main/read.naver?mode=LSD&mid=shm&sid1=102&oid=025&aid=0003169764\n",
      "237 = '환경부 블랙리스트' 김은경 징역2년 확정…文정부 장관 첫 실형 https://news.naver.com/main/read.naver?mode=LSD&mid=shm&sid1=102&oid=025&aid=0003169738\n",
      "238 = 국제언론인협회 “기자 통화 내역 수집한 공수처 조사 촉구\" https://news.naver.com/main/read.naver?mode=LSD&mid=shm&sid1=103&oid=025&aid=0003169768\n",
      "239 = “중국인이 제작” 공주 무령왕릉에서 발견된 벽돌에 이런 글이 https://news.naver.com/main/read.naver?mode=LSD&mid=shm&sid1=103&oid=081&aid=0003247856\n"
     ]
    }
   ],
   "source": [
    "if res.ok:\n",
    "    # 소스보기로 보여지는 text\n",
    "    html = res.text\n",
    "    soup = BeautifulSoup(html, 'html.parser')\n",
    "    # href 속성의 값에 read.naver 문자열이 포함된 a tag 선택하기\n",
    "    a_tag_list = soup.select(\"a[href*='read.naver']\")\n",
    "    print(len(a_tag_list))\n",
    "    for index, a_tag in enumerate(a_tag_list, 1):\n",
    "        #<a > 뉴스제목 </a>\n",
    "        title = a_tag.text.strip()\n",
    "        # <a href = \"read.naver\"/>\n",
    "        news_link = urljoin(url, a_tag['href']) # 일부 url 절대path 추가해주기 위해서 urljoin 사용\n",
    "        print(f'{index} = {title} {news_link}')"
   ]
  },
  {
   "cell_type": "code",
   "execution_count": 28,
   "metadata": {
    "collapsed": false,
    "jupyter": {
     "outputs_hidden": false
    },
    "pycharm": {
     "name": "#%%\n"
    }
   },
   "outputs": [],
   "source": []
  }
 ],
 "metadata": {
  "kernelspec": {
   "display_name": "PyCharm (webscrap_source)",
   "language": "python",
   "name": "pycharm-96fd260c"
  },
  "language_info": {
   "codemirror_mode": {
    "name": "ipython",
    "version": 3
   },
   "file_extension": ".py",
   "mimetype": "text/x-python",
   "name": "python",
   "nbconvert_exporter": "python",
   "pygments_lexer": "ipython3",
   "version": "3.9.7"
  }
 },
 "nbformat": 4,
 "nbformat_minor": 4
}
