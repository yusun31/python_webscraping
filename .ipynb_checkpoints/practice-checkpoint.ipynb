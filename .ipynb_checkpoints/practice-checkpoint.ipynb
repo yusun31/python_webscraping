{
 "cells": [
  {
   "cell_type": "markdown",
   "id": "f8278933-a811-4ae2-9103-43b38e59b92d",
   "metadata": {},
   "source": [
    "### 영어 -> 한국어 노래가사"
   ]
  },
  {
   "cell_type": "code",
   "execution_count": 11,
   "id": "97c03ef8-0a90-44fd-a3a9-4f1bfabbfcff",
   "metadata": {},
   "outputs": [
    {
     "name": "stdout",
     "output_type": "stream",
     "text": [
      "어제는 내 모든 고민이 너무 멀리 있는 것 같았어.\n",
      "이제 그들은 여기 머물려고 온 것처럼 보인다.\n",
      "오, 나는 어제를 다시 그리게 돼.\n",
      "\n",
      "갑자기 나는 예전의 절반도 되지 않았다.\n",
      "그림자가 드리워져 있어요.\n",
      "아, 어제가 갑자기 왔네요.\n",
      "\n",
      "왜 그녀가 가야만 했는지, 모르겠어요, 그녀는 말하려 하지 않았어요.\n",
      "내가 잘못 말했는데, 어제가 그리워요.\n",
      "\n",
      "어제는 사랑이 정말 쉬운 게임이었다.\n",
      "이제 숨을 곳이 필요해\n",
      "오, 나는 어제를 다시 그리게 돼.\n",
      "\n",
      "왜 그녀가 가야만 했는지, 모르겠어요, 그녀는 말하려 하지 않았어요.\n",
      "내가 잘못 말했는데, 어제가 그리워요.\n",
      "\n",
      "어제는 사랑이 정말 쉬운 게임이었다.\n",
      "이제 숨을 곳이 필요해\n",
      "오, 나는 어제를 다시 그리게 돼.\n",
      "\n",
      "mm mm mm mm mm mm\n"
     ]
    }
   ],
   "source": [
    "import requests\n",
    "\n",
    "client_id = \"Ef50Z0MooE3_wHfibEod\"\n",
    "client_secret = \"f1EGdycc6O\"\n",
    "url = \"https://openapi.naver.com/v1/papago/n2mt\"\n",
    "\n",
    "lyrics_text = ''\n",
    "with open('./data/yesterday.txt', 'r') as file:\n",
    "    lyrics_text = file.read()\n",
    "\n",
    "req_header = {\"X-Naver-Client-Id\": client_id, \"X-Naver-Client-Secret\": client_secret}\n",
    "req_param = {\"source\": \"en\", \"target\": \"ko\", \"text\": lyrics_text}\n",
    "\n",
    "res = requests.post(url, headers = req_header, data = req_param)\n",
    "if res.ok:\n",
    "    #print(type(res.json()), res.json())\n",
    "    trans_txt = res.json()['message']['result']['translatedText']\n",
    "    print(trans_txt)\n",
    "else:\n",
    "    print('ERROR CODE', res.status_code)"
   ]
  },
  {
   "cell_type": "markdown",
   "id": "09ae64b4-61df-4c09-ae93-6a3d946e379d",
   "metadata": {},
   "source": [
    "### 한국어 -> 영어 노래가사"
   ]
  },
  {
   "cell_type": "code",
   "execution_count": 3,
   "id": "b369bb67-3287-48f5-ae98-e6059d014274",
   "metadata": {},
   "outputs": [
    {
     "name": "stdout",
     "output_type": "stream",
     "text": [
      "Right now, right here.\n",
      "This moment that I desperately wanted and wanted\n",
      "My dream is my wish.\n",
      "I don't know if it'll come true today.\n",
      "Right now, right here.\n",
      "I can't say anything about this moment.\n",
      "The days I endured, the days I had a lot\n",
      "It's all disappearing like smoke\n",
      "Like magic at this moment,\n",
      "I take off the chain that tied me up.\n",
      "I'm just confident right now.\n",
      "All that's left is victory.\n",
      "We've been through so many criticisms and hardships.\n",
      "Shake it off, stand up, face the world, and face it.\n",
      "At this moment, everything about me\n",
      "My body, my soul, and everything.\n",
      "I will give it to you.\n",
      "For the desperate wish I've been looking for,\n",
      "At this moment, my own path.\n",
      "Even if you abandon me and curse me,\n",
      "A dream that I cherish deeply in my heart\n",
      "I pray desperately and desperately\n",
      "God, give me permission.\n"
     ]
    }
   ],
   "source": [
    "import requests\n",
    "\n",
    "client_id = \"Ef50Z0MooE3_wHfibEod\"\n",
    "client_secret = \"f1EGdycc6O\"\n",
    "url = \"https://openapi.naver.com/v1/papago/n2mt\"\n",
    "\n",
    "lyrics=''\n",
    "with open(\"./data/At_this_moment.txt\", \"r\", encoding=\"UTF-8\") as file1:\n",
    "    lyrics=file1.read()\n",
    "    \n",
    "req_header = {\"X-Naver-Client-Id\": client_id, \"X-Naver-Client-Secret\": client_secret}\n",
    "req_param = {\"source\": \"ko\", \"target\": \"en\", \"text\": lyrics}\n",
    "\n",
    "res = requests.post(url, headers = req_header, data = req_param)\n",
    "if res.ok:\n",
    "    #print(type(res.json()), res.json())\n",
    "    trans_txt1 = res.json()['message']['result']['translatedText']\n",
    "print(trans_txt1)"
   ]
  }
 ],
 "metadata": {
  "kernelspec": {
   "display_name": "PyCharm (webscrap_source)",
   "language": "python",
   "name": "pycharm-96fd260c"
  },
  "language_info": {
   "codemirror_mode": {
    "name": "ipython",
    "version": 3
   },
   "file_extension": ".py",
   "mimetype": "text/x-python",
   "name": "python",
   "nbconvert_exporter": "python",
   "pygments_lexer": "ipython3",
   "version": "3.9.7"
  }
 },
 "nbformat": 4,
 "nbformat_minor": 5
}
