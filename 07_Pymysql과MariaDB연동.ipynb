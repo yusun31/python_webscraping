{
 "cells": [
  {
   "cell_type": "code",
   "execution_count": 2,
   "metadata": {},
   "outputs": [
    {
     "name": "stdout",
     "output_type": "stream",
     "text": [
      "Name: PyMySQL\n",
      "Version: 1.0.2\n",
      "Summary: Pure Python MySQL Driver\n",
      "Home-page: https://github.com/PyMySQL/PyMySQL/\n",
      "Author: yutaka.matsubara\n",
      "Author-email: yutaka.matsubara@gmail.com\n",
      "License: \"MIT\"\n",
      "Location: c:\\users\\yousu\\anaconda3\\lib\\site-packages\n",
      "Requires: \n",
      "Required-by: \n"
     ]
    }
   ],
   "source": [
    "!pip show pymysql"
   ]
  },
  {
   "cell_type": "code",
   "execution_count": 3,
   "metadata": {},
   "outputs": [
    {
     "name": "stdout",
     "output_type": "stream",
     "text": [
      "\n",
      "CREATE TABLE product (\n",
      "    id INT UNSIGNED NOT NULL AUTO_INCREMENT,\n",
      "    name VARCHAR(20) NOT NULL,\n",
      "    model_num VARCHAR(10) NOT NULL,\n",
      "    model_type VARCHAR(10) NOT NULL,\n",
      "    PRIMARY KEY(id)\n",
      ");\n",
      "\n"
     ]
    }
   ],
   "source": [
    "sql = \"\"\"\n",
    "CREATE TABLE product (\n",
    "    id INT UNSIGNED NOT NULL AUTO_INCREMENT,\n",
    "    name VARCHAR(20) NOT NULL,\n",
    "    model_num VARCHAR(10) NOT NULL,\n",
    "    model_type VARCHAR(10) NOT NULL,\n",
    "    PRIMARY KEY(id)\n",
    ");\n",
    "\"\"\"\n",
    "print(sql)"
   ]
  },
  {
   "cell_type": "code",
   "execution_count": 4,
   "metadata": {},
   "outputs": [
    {
     "name": "stdout",
     "output_type": "stream",
     "text": [
      "<pymysql.connections.Connection object at 0x000001D76CB8FF40>\n",
      "<pymysql.cursors.Cursor object at 0x000001D76CBDB7F0>\n"
     ]
    }
   ],
   "source": [
    "import pymysql\n",
    "\n",
    "db = pymysql.connect(host='localhost', port=3306, db='python_db', user='python',passwd='python',charset='utf8')\n",
    "print(db)\n",
    "cursor = db.cursor()\n",
    "print(cursor)\n",
    "cursor.execute(sql)\n",
    "db.commit()"
   ]
  },
  {
   "attachments": {
    "54acca3c-1d1c-48c1-9798-34c86d4fb22b.png": {
     "image/png": "[encoded data removed]"
    }
   },
   "cell_type": "markdown",
   "metadata": {},
   "source": [
    "![image.png](attachment:54acca3c-1d1c-48c1-9798-34c86d4fb22b.png)"
   ]
  },
  {
   "cell_type": "code",
   "execution_count": 5,
   "metadata": {},
   "outputs": [
    {
     "data": {
      "text/plain": [
       "2"
      ]
     },
     "execution_count": 5,
     "metadata": {},
     "output_type": "execute_result"
    }
   ],
   "source": [
    "# cursor.execute('drop table product')\n",
    "cursor.execute('show tables')"
   ]
  },
  {
   "cell_type": "code",
   "execution_count": 5,
   "metadata": {},
   "outputs": [],
   "source": [
    "db.close()"
   ]
  },
  {
   "cell_type": "code",
   "execution_count": 6,
   "metadata": {},
   "outputs": [
    {
     "name": "stdout",
     "output_type": "stream",
     "text": [
      "insert into product (name,model_num,model_type) values (%s, %s, %s)\n",
      "insert into product (name,model_num,model_type) values (%s, %s, %s)\n",
      "insert into product (name,model_num,model_type) values (%s, %s, %s)\n",
      "insert into product (name,model_num,model_type) values (%s, %s, %s)\n",
      "insert into product (name,model_num,model_type) values (%s, %s, %s)\n",
      "insert into product (name,model_num,model_type) values (%s, %s, %s)\n",
      "insert into product (name,model_num,model_type) values (%s, %s, %s)\n",
      "insert into product (name,model_num,model_type) values (%s, %s, %s)\n",
      "insert into product (name,model_num,model_type) values (%s, %s, %s)\n",
      "insert into product (name,model_num,model_type) values (%s, %s, %s)\n",
      "10\n"
     ]
    }
   ],
   "source": [
    "import pymysql\n",
    "\n",
    "#db와 연결\n",
    "db = pymysql.connect(host='localhost', port=3306, db='python_db', user='python',passwd='python',charset='utf8')\n",
    "\n",
    "# error가 발생할 수도 있기 때문에 try except구문 사용\n",
    "try:\n",
    "    #cursor 생성하고 cursor가 open되어 있는 query문을 여러 개 실행\n",
    "    with db.cursor() as cursor:\n",
    "        #table drop(table없애기)하는 query 실행\n",
    "        cursor.execute('drop table product')\n",
    "        #product table 생성 query실행\n",
    "        cursor.execute(sql)\n",
    "        #db에 실제로 적용한다\n",
    "        db.commit()\n",
    "        \n",
    "        for num in range(10,20): # 10 ~ 19까지\n",
    "            name = 'S20'+str(num)\n",
    "            ins_sql = \\\n",
    "            'insert into product (name,model_num,model_type) values (%s, %s, %s)' # %s : 문자열\n",
    "            # insert query 실행\n",
    "            cursor.execute(ins_sql,(name,'7700','Phone'))\n",
    "            print(ins_sql)\n",
    "#           ins_sql = \"insert into product (name,model_num,model_type) \\\n",
    "#           values('\"+name+\"','7700','Phone')\"\n",
    "#           cursor.execute(ins_sql)\n",
    "            \n",
    "        db.commit()\n",
    "        print(cursor.lastrowid)\n",
    "except Exception as exp:\n",
    "    print(exp)\n",
    "    db.rollback() # error가 나면 취소(rollback)\n",
    "finally:\n",
    "    db.close() # 연결 종료"
   ]
  },
  {
   "attachments": {
    "977bc935-fdeb-41de-9486-01a83f1a0208.png": {
     "image/png": "[encoded data removed]"
    }
   },
   "cell_type": "markdown",
   "metadata": {},
   "source": [
    "![image.png](attachment:977bc935-fdeb-41de-9486-01a83f1a0208.png)"
   ]
  },
  {
   "cell_type": "code",
   "execution_count": 15,
   "metadata": {},
   "outputs": [
    {
     "name": "stdout",
     "output_type": "stream",
     "text": [
      "<class 'tuple'> (3, 'S2012', '7700', '핸드폰') S2012\n",
      "0\n",
      "<class 'tuple'>\n",
      "1 S2010 7700 핸드폰\n",
      "2 S2011 7700 핸드폰\n",
      "3 S2012 7700 핸드폰\n",
      "4 S2013 7700 핸드폰\n",
      "5 S2014 7700 핸드폰\n",
      "6 S2015 7700 핸드폰\n",
      "7 S2016 7700 Phone\n",
      "8 S2017 7700 Phone\n",
      "9 S2018 7700 Phone\n",
      "10 S2019 7700 Phone\n",
      "('Phone', 4)\n",
      "('핸드폰', 6)\n"
     ]
    }
   ],
   "source": [
    "import pymysql\n",
    "\n",
    "db = pymysql.connect(host='localhost', port=3306, db='python_db',\\\n",
    "                    user='python',passwd='python',charset='utf8')\n",
    "\n",
    "try:\n",
    "    #select, update\n",
    "    with db.cursor() as cursor:\n",
    "        cursor.execute('select * from product where id=3')\n",
    "        result = cursor.fetchone()\n",
    "        print(type(result),result, result[1])\n",
    "        \n",
    "        upd_sql = \\\n",
    "        \"update product set model_type='%s' \\\n",
    "        where name between 'S2010' and 'S2015'\" % '핸드폰'\n",
    "        cursor.execute(upd_sql)\n",
    "        db.commit()\n",
    "        #갱신된 row 갯수\n",
    "        print(cursor.rowcount)\n",
    "        \n",
    "        cursor.execute('select * from product')\n",
    "        result_list = cursor.fetchall()\n",
    "        print(type(result_list))\n",
    "        for row in result_list:\n",
    "            print(row[0],row[1],row[2],row[3])\n",
    "            \n",
    "        # model_type별로 group by 하는 쿼리 실행 \n",
    "        cursor.execute('select model_type,count(*) from product group by model_type')\n",
    "        for row in cursor.fetchall():\n",
    "            print(row)\n",
    "finally:\n",
    "    db.close()"
   ]
  },
  {
   "cell_type": "code",
   "execution_count": 30,
   "metadata": {},
   "outputs": [
    {
     "name": "stdout",
     "output_type": "stream",
     "text": [
      "0\n",
      "7 S2016 7700 Phone\n",
      "8 S2017 7700 Phone\n",
      "9 S2018 7700 Phone\n",
      "10 S2019 7700 Phone\n"
     ]
    }
   ],
   "source": [
    "# delete 하고 select all\n",
    "#name 컬럼의 값이 's2014' 와 's2015' 인 행을 삭제하세요 sql의 in 구문을 사용하세요\n",
    "\n",
    "con = pymysql.connect(host='localhost', port=3306, db='python_db',\\\n",
    "                    user='python',passwd='python',charset='utf8')\n",
    "\n",
    "#print(type(con), con)\n",
    "\n",
    "try:\n",
    "    with con.cursor() as cursor:\n",
    "        sql = \"delete from product where name in (%s,%s)\"\n",
    "        cursor.execute(sql,('S2012','S2013'))\n",
    "        con.commit()\n",
    "        # 삭제된 건수 출력\n",
    "        print(cursor.rowcount)\n",
    "                \n",
    "        sql = \"select * from product order by id\"\n",
    "        cursor.execute(sql)\n",
    "        for row in cursor.fetchall():\n",
    "            print(row[0],row[1],row[2],row[3])\n",
    "            \n",
    "except Exception as ex:\n",
    "    con.rollback()\n",
    "    print(ex)\n",
    "finally:\n",
    "    con.close()"
   ]
  }
 ],
 "metadata": {
  "kernelspec": {
   "display_name": "Python 3 (ipykernel)",
   "language": "python",
   "name": "python3"
  },
  "language_info": {
   "codemirror_mode": {
    "name": "ipython",
    "version": 3
   },
   "file_extension": ".py",
   "mimetype": "text/x-python",
   "name": "python",
   "nbconvert_exporter": "python",
   "pygments_lexer": "ipython3",
   "version": "3.9.7"
  }
 },
 "nbformat": 4,
 "nbformat_minor": 4
}
